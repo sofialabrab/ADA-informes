{
  "nbformat": 4,
  "nbformat_minor": 0,
  "metadata": {
    "colab": {
      "name": "INSERTION SORT.ipynb",
      "provenance": [],
      "authorship_tag": "ABX9TyOdJ6ABolz7yB9aC+KOavKu",
      "include_colab_link": true
    },
    "kernelspec": {
      "name": "python3",
      "display_name": "Python 3"
    },
    "language_info": {
      "name": "python"
    }
  },
  "cells": [
    {
      "cell_type": "markdown",
      "metadata": {
        "id": "view-in-github",
        "colab_type": "text"
      },
      "source": [
        "<a href=\"https://colab.research.google.com/github/sofialabrab/ADA-informes/blob/main/INSERTION_SORT.ipynb\" target=\"_parent\"><img src=\"https://colab.research.google.com/assets/colab-badge.svg\" alt=\"Open In Colab\"/></a>"
      ]
    },
    {
      "cell_type": "markdown",
      "source": [
        "**INSERTION SORT**\n",
        "\n",
        "![insertion.png](data:image/png;base64,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)\n",
        "> Es un algoritmo que nos facilita ordenar un conjunto de datos de menor a mayor que deben pertenecer a un arreglo.\n",
        "Para poder insertar este algoritmo necesitaremos:\n",
        "\n",
        "1.  Arreglo con los datos a ordenar\n",
        "2.  Indice para recorrer el arreglo y otro para poder retroceder en este mismo\n",
        "3.  Una variable auxiliar \n",
        "\n",
        "\n",
        "\n",
        "\n",
        "\n",
        "\n",
        "\n",
        "\n",
        "\n",
        "\n",
        "\n",
        "\n",
        "\n",
        "\n",
        "\n",
        "\n"
      ],
      "metadata": {
        "id": "Khqok3EeDHFA"
      }
    },
    {
      "cell_type": "markdown",
      "source": [
        "Mediante un ejemplo se demostrará como se implementa:\n",
        "\n",
        "En ente caso nuestro problema sería:\n",
        "\n",
        "En una sala hay **10 niños** de distintas edades, en el rango de 5 a 15 años, se desea que estos se formen en una fila, en la cual el niño mas pequeño este de los primeros y el de mayor edad este al último.\n",
        "Inicialmente los niños se forman sin considerar el número de edad y quedan ordenados de la siguiente manera:\n",
        "\n",
        "  **11 5 8 12 15 7 6 14 13 9**\n",
        "\n",
        "Y para poder resolverlo ocuparemos el método insertion sort:  \n",
        "\n",
        "Para poder ordenar a los niños se irán moviendo uno a la vez y se irá consultando si este niño es menor a su predecesor, en el caso que si lo sea este niño se posicionará en el caso de ser el menor hasta el momento, al comienzo de la fila o a la derecha de el niño que sea menor que el.\n"
      ],
      "metadata": {
        "id": "4kkDgT8zHMxU"
      }
    },
    {
      "cell_type": "markdown",
      "source": [
        ""
      ],
      "metadata": {
        "id": "yvUDatrqUwK7"
      }
    },
    {
      "cell_type": "markdown",
      "source": [
        "**Entrada :** 11 5 8 12 15 7 6 14 13 9"
      ],
      "metadata": {
        "id": "-EMse2KXRR_4"
      }
    },
    {
      "cell_type": "markdown",
      "source": [
        "**PASOS DE EL ALGORITMO**\n",
        "\n",
        "\n",
        "1.   Creamos nuestro arreglo que contiene las edades de los niños\n",
        "2.   En nuestro primer ciclo iterativo se realizará todo el proceso de ordenar los niños, el cual comienza desde el segundo niño formado, para que este sea comparado con su predecesor en unos pasos siguientes y este ciclo terminará cuando lleguemos a el último niño de la fila\n",
        "3.   Creamos nuestra variable auxiliar \"edadniño\", que le asignamos la edad de el niño en la posición que estamos de la fila.\n",
        "4.   Creamos una nueva variable \"j\" que guarda el valor de \"i\", que es el valor que contiene la posicion de el niño en la fila, en este caso en el arreglo-\n",
        "5.  Creamos nuestro segundo ciclo iterativo, el cual se encarga de dejar el niño bien posicionado en la fila, es decir, si es el menor de todos que este en la primera posición de la fila/arreglo y sino que este al lado derecho de el niño que sea mas pequeño que él.\n",
        "Para poder entrar en este ciclo, el niño que está posicionado a la izquierda de el es mayor y por lo mismo se deben intercambiar, por lo que el niño queda en la posicion de la fila/arreglo de quien era su predecesor y de esta forma se sigue comparando hasta que lleguemos al inicio de la fila.\n",
        "\n",
        "\n"
      ],
      "metadata": {
        "id": "WLpPrZaZRrme"
      }
    },
    {
      "cell_type": "markdown",
      "source": [
        "La **salida** esperada sería que los niños se encuentren en la fila de tal forma:\n",
        "\n",
        "   ** 5 6 7 8 9 11 12 13 14 15 **\n"
      ],
      "metadata": {
        "id": "U-qaTFsPUzno"
      }
    },
    {
      "cell_type": "code",
      "source": [
        "#Arreglo de niños \n",
        "niños = [11, 5, 8, 12, 15, 7, 6, 14, 13, 9]\n",
        "for i in range(1,9)\n",
        "  edadniño = niños[i]\n",
        "  j = i\n",
        "  while(j > 0 and niños[j - 1] > edadniño)\n",
        "    niños[j] = niños[j - 1]\n",
        "    j = j - 1\n",
        "\n",
        "\n",
        "for i in niños    \n",
        "print(niños)\n"
      ],
      "metadata": {
        "colab": {
          "base_uri": "https://localhost:8080/",
          "height": 130
        },
        "id": "rBzrUf7BHKSE",
        "outputId": "390da3d1-167f-438d-bc3f-ce2ae2426788"
      },
      "execution_count": 7,
      "outputs": [
        {
          "output_type": "error",
          "ename": "SyntaxError",
          "evalue": "ignored",
          "traceback": [
            "\u001b[0;36m  File \u001b[0;32m\"<ipython-input-7-79eac9d883cd>\"\u001b[0;36m, line \u001b[0;32m3\u001b[0m\n\u001b[0;31m    for i in range(1,9)\u001b[0m\n\u001b[0m                       ^\u001b[0m\n\u001b[0;31mSyntaxError\u001b[0m\u001b[0;31m:\u001b[0m invalid syntax\n"
          ]
        }
      ]
    }
  ]
}