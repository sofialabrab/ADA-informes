{
  "nbformat": 4,
  "nbformat_minor": 0,
  "metadata": {
    "colab": {
      "name": "INSERTION SORT.ipynb",
      "provenance": [],
      "authorship_tag": "ABX9TyPj8iEN1OfDLCMVejO7eFY+",
      "include_colab_link": true
    },
    "kernelspec": {
      "name": "python3",
      "display_name": "Python 3"
    },
    "language_info": {
      "name": "python"
    }
  },
  "cells": [
    {
      "cell_type": "markdown",
      "metadata": {
        "id": "view-in-github",
        "colab_type": "text"
      },
      "source": [
        "<a href=\"https://colab.research.google.com/github/sofialabrab/ADA-informes/blob/main/INSERTION_SORT.ipynb\" target=\"_parent\"><img src=\"https://colab.research.google.com/assets/colab-badge.svg\" alt=\"Open In Colab\"/></a>"
      ]
    },
    {
      "cell_type": "markdown",
      "source": [
        "**INSERTION SORT**\n",
        "\n",
        "> Es un algoritmo que nos facilita ordenar un conjunto de datos de menor a mayor que deben pertenecer a un arreglo.\n",
        "Para poder insertar este algoritmo necesitaremos:\n",
        "\n",
        "1.  Arreglo con los datos a ordenar\n",
        "2.  Indice para recorrer el arreglo y otro para poder retroceder en este mismo\n",
        "3.  Una variable auxiliar \n",
        "\n",
        "\n",
        "\n",
        "\n",
        "\n",
        "\n",
        "\n",
        "\n",
        "\n",
        "\n",
        "\n",
        "\n",
        "\n",
        "\n",
        "\n",
        "\n"
      ],
      "metadata": {
        "id": "Khqok3EeDHFA"
      }
    },
    {
      "cell_type": "markdown",
      "source": [
        "Mediante un ejemplo se demostrará como se implementa:\n",
        "\n",
        "En ente caso nuestro problema sería:\n",
        "\n",
        "En una sala hay **10 niños** de distintas edades, en el rango de 5 a 15 años, se desea que estos se formen en una fila, en la cual el niño mas pequeño este de los primeros y el de mayor edad este al último.\n",
        "Inicialmente los niños se forman sin considerar el número de edad y quedan ordenados de la siguiente manera:\n",
        "\n",
        "  **11 5 8 12 15 7 6 14 13 9**\n",
        "\n",
        "Y para poder resolverlo ocuparemos el método insertion sort:  \n",
        "\n",
        "Para poder ordenar a los niños se irán moviendo uno a la vez y se irá consultando si este niño es menor a su predecesor, en el caso que si lo sea este niño se posicionará en el caso de ser el menor hasta el momento, al comienzo de la fila o a la derecha de el niño que sea menor que el.\n"
      ],
      "metadata": {
        "id": "4kkDgT8zHMxU"
      }
    },
    {
      "cell_type": "markdown",
      "source": [
        ""
      ],
      "metadata": {
        "id": "yvUDatrqUwK7"
      }
    },
    {
      "cell_type": "markdown",
      "source": [
        "**Entrada :** 11 5 8 12 15 7 6 14 13 9"
      ],
      "metadata": {
        "id": "-EMse2KXRR_4"
      }
    },
    {
      "cell_type": "markdown",
      "source": [
        "**PASOS DE EL ALGORITMO**\n",
        "\n",
        "\n",
        "1.   Creamos nuestro arreglo que contiene las edades de los niños\n",
        "2.   En nuestro primer ciclo iterativo se realizará todo el proceso de ordenar los niños, el cual comienza desde el segundo niño formado, para que este sea comparado con su predecesor en unos pasos siguientes y este ciclo terminará cuando lleguemos a el último niño de la fila\n",
        "3.   Creamos nuestra variable auxiliar \"edadniño\", que le asignamos la edad de el niño en la posición que estamos de la fila.\n",
        "4.   Creamos una nueva variable \"j\" que guarda el valor de \"i\", que es el valor que contiene la posicion de el niño en la fila, en este caso en el arreglo-\n",
        "5.  Creamos nuestro segundo ciclo iterativo, el cual se encarga de dejar el niño bien posicionado en la fila, es decir, si es el menor de todos que este en la primera posición de la fila/arreglo y sino que este al lado derecho de el niño que sea mas pequeño que él.\n",
        "Para poder entrar en este ciclo, el niño que está posicionado a la izquierda de el es mayor y por lo mismo se deben intercambiar, por lo que el niño queda en la posicion de la fila/arreglo de quien era su predecesor y de esta forma se sigue comparando hasta que lleguemos al inicio de la fila.\n",
        "\n",
        "\n"
      ],
      "metadata": {
        "id": "WLpPrZaZRrme"
      }
    },
    {
      "cell_type": "markdown",
      "source": [
        "La **salida** esperada sería que los niños se encuentren en la fila de tal forma:\n",
        "\n",
        "   ** 5 6 7 8 9 11 12 13 14 15 **\n"
      ],
      "metadata": {
        "id": "U-qaTFsPUzno"
      }
    },
    {
      "cell_type": "code",
      "source": [
        "#Arreglo de niños \n",
        "niños = [11, 5, 8, 12, 15, 7, 6, 14, 13, 9]\n",
        "for i in range(1,9)\n",
        "  edadniño = niños[i]\n",
        "  j = i\n",
        "  while(j > 0 and niños[j - 1] > edadniño)\n",
        "    niños[j] = niños[j - 1]\n",
        "    j = j - 1\n",
        "\n",
        "\n",
        "for i in niños    \n",
        "print(niños)\n"
      ],
      "metadata": {
        "colab": {
          "base_uri": "https://localhost:8080/",
          "height": 130
        },
        "id": "rBzrUf7BHKSE",
        "outputId": "390da3d1-167f-438d-bc3f-ce2ae2426788"
      },
      "execution_count": 7,
      "outputs": [
        {
          "output_type": "error",
          "ename": "SyntaxError",
          "evalue": "ignored",
          "traceback": [
            "\u001b[0;36m  File \u001b[0;32m\"<ipython-input-7-79eac9d883cd>\"\u001b[0;36m, line \u001b[0;32m3\u001b[0m\n\u001b[0;31m    for i in range(1,9)\u001b[0m\n\u001b[0m                       ^\u001b[0m\n\u001b[0;31mSyntaxError\u001b[0m\u001b[0;31m:\u001b[0m invalid syntax\n"
          ]
        }
      ]
    }
  ]
}