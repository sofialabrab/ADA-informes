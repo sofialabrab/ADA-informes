{
  "nbformat": 4,
  "nbformat_minor": 0,
  "metadata": {
    "colab": {
      "name": "Sub-ArregloMáximo.ipynb",
      "provenance": [],
      "include_colab_link": true
    },
    "kernelspec": {
      "name": "python3",
      "display_name": "Python 3"
    },
    "language_info": {
      "name": "python"
    }
  },
  "cells": [
    {
      "cell_type": "markdown",
      "metadata": {
        "id": "view-in-github",
        "colab_type": "text"
      },
      "source": [
        "<a href=\"https://colab.research.google.com/github/sofialabrab/ADA-informes/blob/main/Sub_ArregloM%C3%A1ximo.ipynb\" target=\"_parent\"><img src=\"https://colab.research.google.com/assets/colab-badge.svg\" alt=\"Open In Colab\"/></a>"
      ]
    },
    {
      "cell_type": "markdown",
      "source": [
        "# **SUB-ARREGLO MÁXIMO**\n",
        "\n",
        "Este algoritmo tiene como objetivo encontrar la suma máxima en  los subarreglos, que estan contenidos en un arreglo unimensional.\n",
        "\n",
        "Algunas consideraciones son que uno de los subarreglo pueden venir vacíos, de ser así, la suma de estos será: 0 y que los valores que puede tener los subarreglos son contenidos en los números racionales, es decir, puede tener números positivos, negativos o cero."
      ],
      "metadata": {
        "id": "Sdh52KDWHcty"
      }
    },
    {
      "cell_type": "markdown",
      "source": [
        "![image.png](data:image/png;base64,iVBORw0KGgoAAAANSUhEUgAAARcAAAC0CAIAAAAxTv93AAAVMElEQVR4nO3de0BUZd4H8N9YKIRRQ6ggoqQGRSPorpBlyuAFMQGtFLW85SWlenERrTY1eQO21MVWuqhLsqm4CrEa2MUyl6vmBa2c2d2kQIIESmQKZhhE27N/HDwOM1xm5jkzZ9Dv568zZw7P+c0M3znPec4zMzKO4wgAGPSSugCAHg8pAmCFFAGwQooAWCFFAKyQIgBWSBEAK6QIgBVSBMAKKQJghRQBsEKKAFghRQCsbpe6gB7gt6oqqUu4qdw2eLDUJYhMhk9GdOuyTCZ1CTePXkHB8q9PSV2FyHAsMovMzYuIuEat1IX0YDK3vkQkG+gldSHiQ4rM1WtscJ8FT0ldRQ+m35BCdfVSV2ETSJG5enl7ucyZLXUVPVjLG6k368kDxugAWCFFAKyQIgBWSBEAK6QIgBVSBMBKtJFu7Q/qY0Vf7P8o78JP/yWXPn5jZsUtmq4Y0o+hydbTn+xO2vw3bb+gt3e8GyAXq9K2xi+rT+w+8PfDx/91peW222/rP/GpeVGTHmYrmIh0GesW7S65pNPp/pD8wdNTfMUp9obWs8c+TFy39bJTvy27P3zI07pGdOdLv/n0g22fflN5peW2Xv0DFjz99IzpY+9mqUtfkbjypU+/+n7Kc3997ZlglpaM1X4584mV9X3uMFqt0+le3Xc6arj1DderDi6O+3Mj59TH57G9767yuJMhC5wYTuQk+vHNOQ1VPDiEri8nZZ20rsGmStW6ZeFt7Tz42L8aRClToH3zxXl82/3vHXGfDwk7OlHbwdb1RJfdvH5durzbdk/kJApP7PqMU+IW3VSpEsomp6Edltq95vLnZoQIj31A/7b2fr9gvbVP8pVTH6cHXm/nme2lnW3XEBR82c1LMzXaotZ/PL+PiIjc/drz9PTM+866gjmO47jm8rjQO9uKHjLnUuNVhrY4cVI0l4gefGzfF0Wqyp8bGhrOlGQ9OYwvMFBVc83Cxq6cyEnk/7H9Qya52iBF9apCH6LweRvzv1JdarzaVKk69XH679yIiPrN39LB9mamqLn8yWFETqHPLBgldopMnhNrU3SxaB8RLUtMz/9K1dDQUFVVtXPtTP6litqQY3FzNcf5TMqGPcq/e9oiRa5EQcu36/X6hvYsrtYA/34XGzvbgVKUn59vVMelcwf4V31zkdqiptreeyKXFp+9WK8q9LNBihoaGvK/Uhmt/CJ1GRERhdWZbG9mivYlTCaipKyTO1c8IG6K9I0nheekqVI1/g7rU9RUqSo+e9Fo5V+XBRORXDHL9LF36Qr/h396L1dzvRHbpciy0rpWc3wMEfnPq1cVipIicUYXlEqlUbfSw8PTdxgR0b//3WJRU/cMnqGq/Jk7lP7oqIGi1GZKLpcrRyqMVo4M9GNps151cG7qEd/IpHUxISztdMj5zhCVSiXKc9J3iMK0kdGjFUT0i762ss6ixnpHrP/Hpcarf1wSzXROZW+tmxIWnSDK+2jPPS6NorRo83l0veXNFm3v7OysGOJso2K6kFtwkoj6zY8aYM1ft74R/wRR4PZtL4tc1nUKhXHsRXe3i5evhcMVPj4+3W/kYGqKD7y0rywiPj1qOFG5OG3aKkX19XVny4nI//FHHrbRLkTSqtHoTn20a0lKDlHggXhr5psW7o1PPUqrNr06ZVBPnN2ry87JJ6LgkaOtegexh5rm5oKCAn7Zw8Nj+PDhzs5WvdXqK1bGzCWn0MQXl4pYnq1e9YzXX9YReURFP+Sg/1i6v7y04svKViL6tiD73M80ccKsv2S8Y81It74ibt67csWsP66YLn6Ztlev+nzvkUoimvzsNKlr6ZiOSLdnVdieG2semTx92fNrFk0fa2lTR7e9kVNHSVmbrL1I0DGb/IurD617aV8Zkf/B//+Dw/aYL5zMzS5sIiJXIiJSXfg27f3cP8QttfTC1P71K84RbUp9m+mCg2R0Sf+3sJooIj599bgHpS6mA94+Ibm5uW5ubvzNioqKzO1r8o/kHj+SW5FxyrJrU7VfTkpI7z0ufpnY567mv/C6z/akl1bpDFc9ErsyzL2v0XbaH9RPR6cQUVLWbtuNEHRL+4N6a2au4ZpeniNib5wHu24taNzattx6vrQ0YXF4euKy9MS36rhvzO/Y8IMK/eZvWRPev/utu1RTvP9vRe366f0in3o26F7GZrt2dEt8WmGTXDHr/S1i9nAs1Hpsb1pB5RXDVTceu8vQ6OihwnqlUrl48eL9q8Pnph5JWr7m+WcKzH6xWlNWTSOinIwt4ndczR3M4y+GtLfj6wrTMcSwYHey7uKDCZaRbu3pTJPHGtjFSK6+8eQEIupohLrzkW5twkQiouKzFw2vYyTPkfPtNDQ0mD+E+o8XjZ/fx5L3mW7GONJt6Po14kD2pjimke4rm+YYv1TLs4q62Je+8eQYIiLa9NlPZpbHP9iI+HTDV6rtn2TIHP46p5lNmbLgepHehPEWNcf568ER8elWF2SI7XrRle4Lbr/9W/ETqKNLE52mqLk8kIiIPD077WX7RiZpzK7YnILFStE3u14iIiJ3USLEsV0vsvCV4rjm8gkWpki4uNw5d0uvbQos6Mp3MypS++XKuVPSCpvC5238VMrugaC3haM4Vy3dgfbn5seXzRzV6mq0vqJkV3E5+YdMGvOA9z0PPmD+maGV406WO7f75aCFG4n8i8/+U9zzbOtY+sBbrtV/R0RE9w81tyPt/8BDMTG9XFxcDFfK9FXvZ+eT09CYx0df4u6JGGxtt9y68Bm7PjsrJjZNnAY5jmM9FnWqJHOz6fX7elUhf2Axnftn/jw6nuhzFwyxH4uEjpzpk8DCRnMXOupoadsOLP7zLC+zve8PEYkwd0GUYSXdyqkj3y1s8ohaE/tsmFqtNrp7kEJhyUhd6/nS0qvObkR08auzRCRraWyorFFfbCAizyH3sw+FnS/JWDJvTdis2KhpylFBAV7XGo8e/uyN9a9VE9GQOS/YYPIBO+0P6somIiKnlsbWZiL65T8nj7kOu4ssfE4ulu0fMzORyP1P7yUN8fjN6MXy9vaWyy0YoxSquuuuuyoqLxHRT/XfqdV9iIjuHMA8QZ4uq4senBga+cLGR7w9QkJCnFoaj5379syhHe9+eIqI8j7a020LdsKaZiHQncs8fMH8xpoqVV1MxRHlDf7SuQO/c+uo9cilHR70LD0W8efKYh6LmsvHdP6cTNnwsfktmY5htHPfGovq4qcOdiLM6A3emmNRR2NaRCRXzBLnQMr/6/ae7QDHomFh7yS9es3tns7uDwq0YJ7I7QOGp+1+87ym4wl+vxvpbXF5JjxGPH7mV077gzr76CmtVktEffv2DZkYxf7eyVPOT09W/DR2lEv3m5qnRTYwsYvnZNxI85sKnZ+x1fvrzu7t4zHKosImL1q3dXBkh3fpXH37Ol1jvSDpMjTn+3av1G93eY4KCjCdBmmlgQHJycl3DLqPsVR8w3D3LstkMjev22Oi3dK3S11LD6YZGcJd+LHX2OC7P8ntfuseBZ8YB2CFFAGwQooAWCFFAKyQIgBWSBEAq574kRhp/Hb6bOOyFVJX0YNxesu+gaMHQYrMxV348dqFH6WuAhwRUmQWrrFW6hJuElzNTfhMYu4CACuMLgCwQooAWCFFAKyQIgBWSBEAK6QIgBVSBMAKKQJghRQBsEKKAFghRQCskCIAVpjTbSdpaWmvv/668Ds8jNzc3D7//HOLvscUbAdzuu1EJpOJ22Bubm50dLS4bYJ1cCyyK09PT39/f5YWdDpdaWmpWPWAKJAiuxo/fnxWVhZLC9XV1YMHDxarHhAFRhd6mF9//VXqEsAYUgTACikCYIUUAbBCigBYIUUArJAiAFZIEQArpAiAFVIEwAopAmCFFAGwQooAWCFFAKyQIgBWSBEAK6QIgBVSBMAKKQJghRQBsEKKAFghRQCskCIAVkgRACukCIAVUgTACikCYIUUAbBCigBYIUUArJAiAFZIEQArpAiAFX5LTwSxsbGurq523unevXuLioq63mb8+PH47Vc7QIpYpaSkbN++3f77zc7O7nab1NRU/Pq1HaBHx2r69OnmbzxlyhTG3Xl7e3t6epq58cKFCxl3B2bhgFloRDj/ZMbExEhdC6fX60NDQ/l6VCqV1OXcEnAsEkHBp5/FxMQQUXZ2dl5enrTFREREFBYWElFubq5CoZC2mFuEjEO/WQxqtXrEiBH8soRPaV5eHt/DjImJ2bVrl7Ozs1SV3FKQItEI/8GjR48+ffq0JDXIZDJ+QaVS4UBkN+jRiSY8PJw/ISktLVWr1fYvQKlU8gvoy9kZjkVi0mg07u7u/LKdn1ihSzl69Oji4mL05ewJxyIxyeXy3Nxcfnn27Nl2229LS4twVoYI2R9SJLLo6Gg/Pz8iys7OLigosM9O4+Pj+YXc3FxEyP7QoxNfS0uLi4sLv1xVVeXj42PT3RUUFISFhfHLeDUlgWOR+Jydnbdu3covCws2Ul1dLURIr9fbdF/QGaTIJuLi4vh5OqmpqTbt1wkpTU5ORl9OKujR2YpGowkICKirqyOb9esc4QoVEI5FtiOXy1944QV+2Rb9uurqaj5Cfn5+Bw4cEL19MB9SZENr167lZ1WnpqZmZGSI27iQzOeff97WAxjQDekmwt4SVCoV/zz7+fk1NDSI1ezOnTv5ZhcuXChWm2A1HItsS6FQ8AeNsrKygIAAjUbD3qZGo9m2bRu/vHr1avYGgRFSZHNxcXF8v66uru7gwYPsDcbHx5eWlhLRzp07MV/OIUh9MLwlCP06Yv7kHPpyDggj3XYijEr7+fmdOHFCLpdb0UhLS0tQUFBZWRnhsw+OBD06O4mOjub7dWVlZXv27LGukXHjxvERwmcfHIvUB8Nbi/CNCPn5+Zb+rTBbPCYmRq/X26I8sA56dHYlzBwNDQ21dGaQ8DlWO8xwBYugR2dXSqUyISGBiAoLC1NSUiz6Q34hPz8fEXI0OBZJQKlU8l/Tk5+fL8SjC8IRDPPlHBNSJAGL+nUSfgodzIQenQSUSiU/oaGwsDA2NrbrjV955RV+QRhdAEeDY5E0NBrNmDFjur3yIxy1PD09a2tr7VoimA0pkky3n/Surq4ePHgwv2zmGRRIAj06ySiVSmE6z6JFi0w3MPzYOSLkyHAsklIXn4fNyMhYsmQJv9zQ0GDdjCGwD6RIYobdNuG1MFyJ+XKODz06ifn4+Ag9t7S0NH7B8DtJECHHh2ORQzCc3XPkyBGhL6fX6/HNPo4Pv0jpEKqqqvgu3BNPPCH8RGxVVRUi1COgR+cQfHx8+M9NlJaW8pODYmJiMF+up0CPzoEI/TrCZJ8eBcciByJ8sDw/P1/aSsAiOBY5lurqaiJCX65nQYoAWKFHB8AKKQJghRQBsEKKAFghRQCskCIAVkgRACukCIAVUgTACikyoa+IDhs7NnxGcvYp0ztrivcrlcqpq96rb7pm/9JsrPXsseyZD4cEBwdPmhiz4+/FUtfTc0jw3eAOrua4K9GA/tR7XLzG+D5twkTy9PSkIXMuNV6VojjbubJz7UwiWp9xSqVSnSnJWrUpx+ThQ8eQIhM1x12Jlry20Y9oc5Ha8B7t6Uwi/03pq6n37JssRZfOHSCiTZ/9JHUhPRJ6dB3QEfn6KxfMkWfuLTFc/c6W16I2pEwd0EdYdfqT94JkN1zvBOqeksn6L3izbaPaL2Uy2ebPfzbaS03x/lDXtj+clrKfX5kRG9Bn/CphG/WhdTLZ/era3/jtZX3mnD2WPXO4TCaTyXorP/vxGtV+OcuLb+P+/AZthw+nxYTpNgffet03MmlNeH/LnikgIpwXdabP3b4rlrzyzY4VJ+va1lxWn3l7X9nzS6dfbmz3C8fxH5bwb0glmZvXz55a8lUNkWvauQOX9qziQ5WyaprpP2hL06kx4+eGvn2K4ziO00bf682vv8N10MC73NuV4uR5Y7k16/ePpkSmlnDN5fHTf4zwcZINjJzx/gWuufzlyVcmeC39xeSBbJ4rczGxeMeZdhvpK9Rl34ZFTtX+oM7Ly8vLyyv4Wm3lE3drkvA46KBqjhPft2kun0C0PKuIX70vYXLvcfEcxxVkPtdxj665fIJBJ/Ct+AlyxazDu98kohO1He/FqMfI78U3Mkm4qcpbS06hqpprHMddLNpHRHnftd2lPZ1JRDu+rjC8+c/LTUYN6jtiWvm0Ea5E7qER4QkJCStWrCCiqA05ZjxZwHEch28v6ZzL0KfXzlwy/503Ysbdra/46/4j67ckm2ykO3vs4z+t/nN9nzvcZFf/STT1+h0vpKQf/iIwYsEHSVknH/I0+Tuvh3eunblkvOKTWbGvvvKccqS5X5fV111L1Fe4OeSedp/n0zb0pfZHMjO//8S5WRe1YVde4pP8zUWTPMfMfVG9fIbC6zYzC7uVIUVdiZ79FKU8Ufz9/nv/k5F/+5y3J4e0v7/16Jb4SQnp2/cWjQ2UO7U0Xgoea9rIqX9XE4WYrl+c/MHYGcc//WBb2KgRUzZ8fDjxMVs8hKNbns35rl0S9Hr95LmJT0/xNVzpPejO8+Qi3BzmF+hzteL4z1UKr3ttUdVNBinqiseIaQkTKXffpl92pUQtygkw/pbfq9s3py/PKloeM46ISF8xyOCYk75yzknf50pe6v/ovJmH5nFRwzto33/0I/6jH5k/Ochj8rT8uKYw975E9GvluZ+IBvA7qK1hfAiDxi8Kvvtbo5VB97u2u+0yyHugV96Zs0Q3klxN7gH/7UNgDqm7lI5HOC/iOI7jTuQkEhGRv3BuY3BepE2YSL9fsJ7jOK65/K34CXT9VKf+yGa6fg6TPEdO960xuvbSVKn6+MgZfvmL1GVE7nUcx/EnQkRJWSc5TluSuZmI5IpZhudFwpkPfyJ0uPqq4U3hrMlSwn41HFevKnxyGPlGJuF6kZmQIhPtU8Q1l/sQ9Zu/RfiXKsh8jiiMH12oVxWGtY2uUdxrG6eNcN1cpOY4baDh2XnNcTI5Wa9XFQZeH7STDXvUYJhBy1/9JCKPqDWHjvydyN8OKeK4KyWZm4UjVNxrGxEh8+HbSzqg0WhcXFyE83L+AovBaXqrRqMTfsShpaVFr9fz21/fspfhBqYNGv4hEZnepdFoiEgulxvtS6PRGDVrcLPVaKdWEErCT1RYBCkCYIWrrgCskCIAVkgRACukCIAVUgTACikCYIUUAbBCigBYIUUArJAiAFZIEQArpAiAFVIEwAopAmD1P5JsXs2aeM6YAAAAAElFTkSuQmCC)"
      ],
      "metadata": {
        "id": "cWwXjVB9M3Nc"
      }
    },
    {
      "cell_type": "markdown",
      "source": [
        "Para implementar este algoritmo, ocuparemos el método de divide y vencerás, el cual consiste en 3 pasos:\n",
        "1. **Dividir:** El problema se dividirá en subproblemas, los cuales son instancias del problema original.\n",
        "\n",
        "2. **Resolver:** Los subproblemas se van resolviendo de manera recursiva con el mismo algoritmo\n",
        "\n",
        "3. **Combinar:** Las soluciones de los subarreglos se combinan para dar con la solución del problema original."
      ],
      "metadata": {
        "id": "m_3_jfaKPuK7"
      }
    },
    {
      "cell_type": "markdown",
      "source": [
        "## **ALGORITMO SUB-ARREGLO MÁXIMO**\n",
        "\n",
        "Para encontrar el subarreglo máximo, este algoritmo tiene 3 opciones, que este sub-arreglo este contenido en el sub-arreglo izquierdo, en el derecho o en el punto medio de estos dos.\n",
        "\n",
        "Separaremos los pasos del algoritmo, siguiendo los pasos de divide y vencerás,\n",
        "\n",
        "***Paso 1*: Dividir**\n",
        "\n",
        "\n",
        "> El arreglo principal se dividirá ira dividiendo en sub-arreglos a la mitad.\n",
        "\n",
        "***Paso 2*: Resolver**\n",
        "\n",
        "\n",
        "> Mientras no encontramos el caso base, los tres sub-arreglos, el izquierdo, y el de la mitad se van llamando recursivamente.\n",
        "\n",
        "***Paso 3*: Combinar**\n",
        "\n",
        "\n",
        "> En el \"return\" combinamos los tres sub-arreglos obtenidos y retornamos el mayor de este.\n",
        "\n",
        "**EJEMPLO**\n",
        "\n",
        "\n",
        "\n",
        "Para demostrar como funciona el algoritmo ocuparemos el siguiente ejemplo:\n",
        "arreglo = [98, -1, 90, -61, -47, -50, -17, 76]\n",
        "\n",
        "\n",
        "\n",
        "\n",
        "> Vamos a dividir el arreglo original en sub arreglos, es decir, \n",
        "tendremos el primer subarreglo izquierdo contenido por: [98, -1, 90, -61]   y el subarreglo derecho = [ -47, -50, -17, 76] y asi se iran dividiendo sucesivamente hasta encontrar el caso base, es decir, que el arreglo contenga un solo elemento.\n",
        "\n",
        "\n",
        "\n",
        "> En cada iteración se irá retornando la suma máxima encontrda hasta terminar las iteraciones, donde finalmente se retornará, la suma máxima final, el sub-arreglo que la contiene y los indices de las posiciones de inicio y fin de este sub-arreglo\n",
        "\n",
        "\n",
        "\n",
        "\n"
      ],
      "metadata": {
        "id": "kgCkpGJzTMXK"
      }
    },
    {
      "cell_type": "code",
      "source": [
        "def maxArrMitad(arreglo, mitad ,indices):\n",
        "  suma = 0\n",
        "  maxIzq = -10000\n",
        "  for i in range(mitad-1, -1, -1):\n",
        "      suma += arreglo[i]\n",
        "      if(suma > maxIzq):\n",
        "        maxIzq = suma\n",
        "        indices[0] = i\n",
        "\n",
        "\n",
        "  suma = 0\n",
        "  maxDer = -10000\n",
        "  for i in range(mitad, len(arreglo)):\n",
        "      suma += arreglo[i]\n",
        "      if(suma > maxDer):\n",
        "        maxDer = suma\n",
        "        indices[1] = i\n",
        "\n",
        "\n",
        "  return max(maxIzq, maxDer)\n",
        "\n",
        "\n",
        "\n",
        "def maxArray(arreglo,indices,cont, verbose):\n",
        "  #--caso base\n",
        "  if(len(arreglo) == 1):\n",
        "    return arreglo[0]\n",
        "  cont[0]+=1\n",
        "  mitad = len(arreglo) // 2\n",
        "  if(verbose == False):\n",
        "    arrIzq = arreglo[:mitad]\n",
        "    arrDer = arreglo[mitad:]\n",
        "  else:\n",
        "    print(\"Pasada : \", cont[0])\n",
        "    arrIzq = arreglo[:mitad]\n",
        "    print(\"Sub-arreglo Izquierdo: \", arrIzq)\n",
        "    arrDer = arreglo[mitad:]\n",
        "    print(\"Sub-arreglo Derecho: \", arrDer, \"\\n\")\n",
        "\n",
        "\n",
        "  subArrIzq = maxArray(arrIzq,indices,cont,verbose)\n",
        "  subArrDer = maxArray(arrDer,indices, cont,verbose)  \n",
        "  subArrMitad = maxArrMitad(arreglo, mitad,indices)\n",
        "\n",
        "\n",
        "  return max(subArrIzq,subArrDer, subArrMitad)\n",
        "\n",
        "\n",
        "arreglo = [98, -1, 90, -61, -47, -50, -17, 76]\n",
        "#indices[0] = inicio indices[1] = fin\n",
        "indices = [0,0]\n",
        "cont = [0]\n",
        "subArrMax = maxArray(arreglo,indices,cont, verbose = False)\n",
        "print(subArrMax)\n",
        "print(arreglo[indices[0] : indices[1] + 1])\n",
        "print(\"Indice izquierdo: \", indices[0], \"\\n\")\n",
        "print(\"Indice Derecho: \", indices[1], \"\\n\")\n",
        "\n"
      ],
      "metadata": {
        "colab": {
          "base_uri": "https://localhost:8080/"
        },
        "id": "lUb7jfDYOzkm",
        "outputId": "b8cabac7-22fe-407d-a105-42b0b011efa7"
      },
      "execution_count": 43,
      "outputs": [
        {
          "output_type": "stream",
          "name": "stdout",
          "text": [
            "126\n",
            "[98, -1, 90, -61, -47, -50, -17, 76]\n",
            "Indice izquierdo:  0 \n",
            "\n",
            "Indice Derecho:  7 \n",
            "\n"
          ]
        }
      ]
    },
    {
      "cell_type": "markdown",
      "source": [
        "### **PASO A PASO EN LOS SUB-ARREGLOS**"
      ],
      "metadata": {
        "id": "LeC4527UrP6D"
      }
    },
    {
      "cell_type": "code",
      "source": [
        "arreglo = [98, -1, 90, -61, -47, -50, -17, 76]\n",
        "#indices[0] = inicio indices[1] = fin\n",
        "indices = [0,0]\n",
        "cont = [0]\n",
        "subArrMax = maxArray(arreglo,indices,cont, verbose = True)"
      ],
      "metadata": {
        "colab": {
          "base_uri": "https://localhost:8080/"
        },
        "id": "ygILyxpsZ9kb",
        "outputId": "66c2058e-9eb7-4ea4-91cb-2afee2157615"
      },
      "execution_count": 22,
      "outputs": [
        {
          "output_type": "stream",
          "name": "stdout",
          "text": [
            "Pasada :  1\n",
            "Sub-arreglo Izquierdo:  [98, -1, 90, -61]\n",
            "Sub-arreglo Derecho:  [-47, -50, -17, 76] \n",
            "\n",
            "Pasada :  2\n",
            "Sub-arreglo Izquierdo:  [98, -1]\n",
            "Sub-arreglo Derecho:  [90, -61] \n",
            "\n",
            "Pasada :  3\n",
            "Sub-arreglo Izquierdo:  [98]\n",
            "Sub-arreglo Derecho:  [-1] \n",
            "\n",
            "Pasada :  4\n",
            "Sub-arreglo Izquierdo:  [90]\n",
            "Sub-arreglo Derecho:  [-61] \n",
            "\n",
            "Pasada :  5\n",
            "Sub-arreglo Izquierdo:  [-47, -50]\n",
            "Sub-arreglo Derecho:  [-17, 76] \n",
            "\n",
            "Pasada :  6\n",
            "Sub-arreglo Izquierdo:  [-47]\n",
            "Sub-arreglo Derecho:  [-50] \n",
            "\n",
            "Pasada :  7\n",
            "Sub-arreglo Izquierdo:  [-17]\n",
            "Sub-arreglo Derecho:  [76] \n",
            "\n"
          ]
        }
      ]
    },
    {
      "cell_type": "markdown",
      "source": [
        "## **TIEMPO DE EJECUCIÓN**\n",
        "**TEOREMA DEL TIEMPO DE EJECUCIÓN**\n",
        "\n",
        "El tiempo de ejecución del algoritmo que resuelve el máximo subarreglo es el mismo tanto para el mejor como para el peor caso, debido que en ambas ocasiones, este ocupa el método de divide y vencerás, la cual va diviendo el arreglo original en subarreglos hasta llegar al caso base y comenzar a revolver las recursiones hasta el final, para poder tener el objetivo esperado, en este caso, la suma maxima del subarreglo.\n",
        "\n",
        "El tiempo de ejecución es: **O(n log n)**"
      ],
      "metadata": {
        "id": "4d6Lo1uAf17M"
      }
    },
    {
      "cell_type": "markdown",
      "source": [
        "## **CORRECTITUD**\n",
        "\n",
        "\n",
        "\n",
        "***Propiedad Invariante:*** El arreglo se seguirá subdiviendo, mientras no se encuentre el caso base.\n",
        "\n",
        "\n",
        "> ***Inicialización***: len(arreglo) == 1\n",
        "\n",
        "En este caso al tener solo un elemento en nuestro arreglo, este mismo sería la respuesta, es decir, su suma máxima.\n",
        "\n",
        "> ***Mantención***: len(arreglo) > 1\n",
        "\n",
        "Mientras no se encuentre el caso base, nuestra función maxArray se llama recursivamente junto con la función maxArrMitad.\n",
        "\n",
        "\n"
      ],
      "metadata": {
        "id": "3FBT3RxMhWWy"
      }
    },
    {
      "cell_type": "markdown",
      "source": [
        "# **EXPERIMENTOS**\n",
        "\n"
      ],
      "metadata": {
        "id": "oy1UwV_xieMr"
      }
    },
    {
      "cell_type": "markdown",
      "source": [
        "**GRÁFICO TIEMPO DE EJECUCUCIÓN:**\n",
        "\n",
        "  En este gráfico, compararemos el tiempo de ejecución de dos métodos para calcular el sub-arreglo máximo."
      ],
      "metadata": {
        "id": "wCcAzQ-nvhHe"
      }
    },
    {
      "cell_type": "code",
      "source": [
        "def kadane(A):\n",
        " \n",
        "    # encontrar el máximo elemento presente en una lista dada\n",
        "    maximum = max(A)\n",
        " \n",
        "    # si la lista contiene todos los valores negativos, devolver el elemento máximo\n",
        "    if maximum < 0:\n",
        "        return maximum\n",
        " \n",
        "    # almacena la sublista de suma máxima encontrada hasta el momento\n",
        "    max_so_far = 0\n",
        " \n",
        "    # almacena la suma máxima de la sublista que termina en la posición actual\n",
        "    max_ending_here = 0\n",
        " \n",
        "    # do para cada elemento de una lista dada\n",
        "    for i in A:\n",
        " \n",
        "        # actualice la suma máxima de la sublista \"finalizando\" en el índice `i` (agregando el\n",
        "        # elemento actual a la suma máxima que termina en el índice anterior `i-1`)\n",
        "        max_ending_here = max_ending_here + i\n",
        " \n",
        "        # si la suma máxima es negativa, configúrelo en 0 (lo que representa\n",
        "        # una sublista vacía)\n",
        "        max_ending_here = max(max_ending_here, 0)\n",
        " \n",
        "        # actualiza el resultado si se encuentra que la suma de la sublista actual es mayor\n",
        "        max_so_far = max(max_so_far, max_ending_here)\n",
        " \n",
        "    return max_so_far\n",
        "A = [-8, -3, -6, -2, -5, -4]"
      ],
      "metadata": {
        "id": "jOf1kSMzswaM"
      },
      "execution_count": 25,
      "outputs": []
    },
    {
      "cell_type": "code",
      "source": [
        "import matplotlib.pyplot as plt\n",
        "import datetime\n",
        "from timeit import repeat\n",
        "import random\n",
        "from termcolor import colored\n",
        "import copy\n",
        "\n",
        "\n",
        "x=[]; y=[]\n",
        "y1=[]\n",
        "\n",
        "for n in range(5,500):\n",
        "\n",
        "  a = random.sample(range(1, 1000), n)\n",
        "  cont = [0,0]\n",
        "  verbose = False\n",
        "  #la función repeat está ejecutando 20 veces insertion_Sort con el arreglo a y retorna el mejor tiepo obtenido.\n",
        "  t1 = repeat(setup=\"from __main__ import kadane\", stmt=f\"kadane({a})\", repeat=1, number=10)\n",
        "  t2 = repeat(setup=\"from __main__ import maxArray\", stmt=f\"maxArray({arreglo},{indices},{cont},{verbose})\", repeat=1, number=10)\n",
        "  x.append(n)\n",
        "  y.append(t1)\n",
        "  y1.append(t2)\n",
        "\n",
        "\n",
        "plt.plot(x, y)\n",
        "plt.plot(x, y1)\n",
        "plt.legend([\"Método D y V\", \"Metodo Kadane\"])\n",
        "\n",
        "plt.xlabel('Tamaño del arreglo')\n",
        "plt.ylabel('Tiempo en ms')\n",
        "plt.show()"
      ],
      "metadata": {
        "id": "Dr2x_Upwu4BG",
        "outputId": "76a51e62-4e4c-4f44-c076-790f224a9640",
        "colab": {
          "base_uri": "https://localhost:8080/",
          "height": 281
        }
      },
      "execution_count": 29,
      "outputs": [
        {
          "output_type": "display_data",
          "data": {
            "text/plain": [
              "<Figure size 432x288 with 1 Axes>"
            ],
            "image/png": "[encoded data removed]"
          },
          "metadata": {
            "needs_background": "light"
          }
        }
      ]
    },
    {
      "cell_type": "markdown",
      "source": [
        "**RESULTADO:** Mediante el gráfico podemos ver que en relación al tiempo de ejecución, el** método Kadane** es mas óptimo para calcular el sub-arreglo máximo dentro de un arreglo, debido que su tiempo de ejecución es lineal : **O(n)**. A comparación de el **método divide y vencerás**, dado que tanto como para el mejor como para el peor caso siempre el algoritmo realiza la misma cantidad de operaciones, por lo que su tiempo de ejecución es **O(n log n)**"
      ],
      "metadata": {
        "id": "A4CQ0rSxxLD0"
      }
    },
    {
      "cell_type": "code",
      "source": [
        "import random\n",
        "from itertools import count\n",
        "import matplotlib.pyplot as plt \n",
        "from math import log2\n",
        "\n",
        "x=[n for n in range(5,20)] \n",
        "y1=[n*log2(n) for n in range(5,20)] # mejor caso\n",
        "y2=[n*log2(n) for n in range(5,20)] # peor caso\n",
        "y=[]; \n",
        "verbose = False\n",
        "for n in range(5,20):\n",
        "  cont = [0,0]\n",
        "  a = random.sample(range(1, 100), n)\n",
        "  maxArray(arreglo,indices,cont, verbose = False)\n",
        "  y.append(cont[0])\n",
        "\n",
        "plt.plot(x,y)\n",
        "plt.plot(x,y1)\n",
        "plt.plot(x,y2)\n",
        "plt.legend([\"SubArrayMax\", \"Mejor caso\", \"Peor caso \"])\n",
        "\n",
        "plt.xlabel('Largo del arreglo')\n",
        "plt.ylabel('Cantidad de divisiones')\n",
        "plt.show()"
      ],
      "metadata": {
        "id": "P5-ncqcWywR-",
        "outputId": "008c5991-b732-4efd-bc03-bd3f582bafad",
        "colab": {
          "base_uri": "https://localhost:8080/",
          "height": 279
        }
      },
      "execution_count": 44,
      "outputs": [
        {
          "output_type": "display_data",
          "data": {
            "text/plain": [
              "<Figure size 432x288 with 1 Axes>"
            ],
            "image/png": "[encoded data removed]"
          },
          "metadata": {
            "needs_background": "light"
          }
        }
      ]
    }
  ]
}