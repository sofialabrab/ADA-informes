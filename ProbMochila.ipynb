{
  "nbformat": 4,
  "nbformat_minor": 0,
  "metadata": {
    "colab": {
      "provenance": [],
      "collapsed_sections": [],
      "authorship_tag": "ABX9TyNu0B6IDviLelKuVvPsA9ly",
      "include_colab_link": true
    },
    "kernelspec": {
      "name": "python3",
      "display_name": "Python 3"
    },
    "language_info": {
      "name": "python"
    }
  },
  "cells": [
    {
      "cell_type": "markdown",
      "metadata": {
        "id": "view-in-github",
        "colab_type": "text"
      },
      "source": [
        "<a href=\"https://colab.research.google.com/github/sofialabrab/ADA-informes/blob/main/ProbMochila.ipynb\" target=\"_parent\"><img src=\"https://colab.research.google.com/assets/colab-badge.svg\" alt=\"Open In Colab\"/></a>"
      ]
    },
    {
      "cell_type": "markdown",
      "source": [
        "#**PROBLEMA DE LA MOCHILA**"
      ],
      "metadata": {
        "id": "j04J113AefNR"
      }
    },
    {
      "cell_type": "markdown",
      "source": [
        "![image.png](data:image/png;base64,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)"
      ],
      "metadata": {
        "id": "NlgJTXI3ecYu"
      }
    },
    {
      "cell_type": "markdown",
      "source": [
        "En esta oportunidad analizaremos el problema de la mochila, pero antes de eso debemos conocer una estrategia de resolución previa, la cual será **algoritmo greedy**.\n",
        "\n",
        "##***Algoritmo Greedy***\n",
        "\n",
        "\n",
        "> El algoritmo greedy, es conocido por ser voráz al resolver **problemas de optimización**, debido que analiza un subproblema y toda la mejor solución que se da *en el momento*. Es importante recalcar que la solución es **momentanea**, por lo que el algoritmo no evaluará si la solcuión que esta tomando actualmente será la más óptima en un futuro.\n",
        "\n",
        "\n",
        "\n",
        "\n"
      ],
      "metadata": {
        "id": "n1oWI1Q3SR30"
      }
    },
    {
      "cell_type": "markdown",
      "source": [
        "Se nos presenta el siguiente problema:\n",
        "\n",
        "\n",
        "\n",
        ">\"Un ladrón quiere robar una tienda que tiene $n$ objetos. Cada objeto tiene un peso $w_i$ y un valor $v_i$. El ladrón tiene una mochila que soporta un peso máximo $W$.  ¿Qué objetos debe robar el ladrón para maximizar el valor total de ellos?\"\n",
        "\n",
        "\n",
        "\n",
        "Para resolver este problema, analizaremos dos algoritmos: Bottom-Up y Algoritmo Greedy.\n",
        "\n"
      ],
      "metadata": {
        "id": "emFdtMVBeuwz"
      }
    },
    {
      "cell_type": "markdown",
      "source": [
        "##**PASOS DEL ALGORITMO BOTTOM-UP**\n",
        "\n",
        "1. Creamos una matriz:\n",
        "\n",
        "\n",
        "\n",
        "> **Filas:** Su tamaño será de: la cantidad de objetod \"obj\" + 1\n",
        "\n",
        "\n",
        "> **Columnas:** Su tamaño será de: los valores del peso hasta llegar a la capacidad máx \"p\" + 1\n",
        "\n",
        "  Por lo que la matriz seria -> $ m = obj+1 x p+1$\n",
        "\n",
        "  Llenamos esta matriz de 0.\n",
        "\n",
        "2. Tendremos una subestructura óptima, la cual cuenta con 3 casos, pero antes de nombrarlos es necesario saber que:\n",
        "\n",
        "\n",
        "\n",
        "    m : matriz\n",
        "    p : peso actual\n",
        "    obj : objeto actual\n",
        "    p[obj] : peso del objeto actual\n",
        "    v[obj] : valor del objeto actual\n",
        "\n",
        "\n",
        "Por lo que:\n",
        "\n",
        "\n",
        "\n",
        "> $m[obj, p]$ =\n",
        "\n",
        "```\n",
        " {\n",
        "\n",
        "  a. 0, si el obj = 0 || p = 0\n",
        "\n",
        "  b. m[obj - 1, p], si p[obj] > p\n",
        "\n",
        "  c. max(m[obj - 1, p], m[obj - p, p - p[obj] + v[obj]), si p[obj] < p\n",
        "\n",
        "}\n",
        "```\n",
        "\n",
        "\n",
        "\n",
        "           Estos casos serán: \n",
        "           a -> Cuando la cantidad de objetos es 0 o el peso del objeto es 0, por lo que no se puede agregar.\n",
        "           b -> El peso del objeto actual superá la capacidad máxima que esta disponible en la mochila, por lo que se toma la solución del objeto anterior.\n",
        "\n",
        "           c -> Como el peso objeto actual no supera el espacio disponible en la mochila, se elige la solución óptima para este caso, es decir, el máximo entre la solución anterior y la solución del caso anterior más el valor agregado del objeto actual.\n",
        "\n",
        "\n",
        "\n",
        "3. Contaremos con dos ciclos anidados, uno que recorra las filas y otro para las columnas, ocuparemos la subestructura óptima mencionada en el paso anterior para almacenar el valor correspondiente.\n",
        "\n",
        "\n",
        "\n"
      ],
      "metadata": {
        "id": "4sVIXdhUgOib"
      }
    },
    {
      "cell_type": "markdown",
      "source": [
        "##**PASOS DEL ALGORITMO GREEDY**\n",
        "\n",
        "1. Crear un arreglo que contenga los índices de los objetos.\n",
        "\n",
        "2. En un arreglo almacenar el valor de los objetos(en kilos) y ordenar estos de mayor a menor.\n",
        "\n",
        "3. Recorrer el arreglo de índices, agregando los objetos a la mochila.\n",
        "\n",
        "Al ir agregando los índices de mayor a menor, sabemos que estamos agregando los objetos de manera óptima.\n",
        "\n",
        "\n",
        "\n",
        "\n",
        "\n"
      ],
      "metadata": {
        "id": "leXdBHx4SdmY"
      }
    },
    {
      "cell_type": "code",
      "source": [
        "import numpy as np\n",
        "\n"
      ],
      "metadata": {
        "id": "KpGNNO4piEVQ"
      },
      "execution_count": 6,
      "outputs": []
    }
  ]
}