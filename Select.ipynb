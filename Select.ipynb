{
  "nbformat": 4,
  "nbformat_minor": 0,
  "metadata": {
    "colab": {
      "provenance": [],
      "authorship_tag": "ABX9TyNnXScNmTvtKdcW/h5h8s4U",
      "include_colab_link": true
    },
    "kernelspec": {
      "name": "python3",
      "display_name": "Python 3"
    },
    "language_info": {
      "name": "python"
    }
  },
  "cells": [
    {
      "cell_type": "markdown",
      "metadata": {
        "id": "view-in-github",
        "colab_type": "text"
      },
      "source": [
        "<a href=\"https://colab.research.google.com/github/sofialabrab/ADA-informes/blob/main/Select.ipynb\" target=\"_parent\"><img src=\"https://colab.research.google.com/assets/colab-badge.svg\" alt=\"Open In Colab\"/></a>"
      ]
    },
    {
      "cell_type": "markdown",
      "source": [
        "#**Algoritmo Select**#\n",
        "\n",
        "El algoritmo Select está relacionado con la reducción de problemas, es decir, **transformación de un problema a otro problema**. De un problema $A$ que diremos que es el problema mayor, lo reduciremos a resolver un problema $B$, de manera, que al resolver este nuevo problema sea de una forma más sencilla resolver el problema original o mayor, esto lo veremos demostrado mas adelante. Este algoritmo también se relaciona con los problemas de selección, donde estos contienen una entrada compuesta por un conjunto de números de diferentes $A$ más un índice i y su salida es un elemento \"**x**\" perteneciente a $A$, que será mayor  a exactamente $i-1$ elementos de $A$. Este elemento \"x\", se conoce como estadístico de orden $i$-ésimo para el conjunto $A$. \n",
        "\n",
        "**¿Que es un estadístico de orden?**\n",
        "\n",
        "Según la Estadística, que es la rama que estudia este tema, un ***estadístico de orden*** es aquel **k-ésimo valor más pequeño** de una muestra estadística. \n",
        "De aquí viene la relación con el **algoritmo select**, dado que este busca **encontrar este estadístico de orden.**\n"
      ],
      "metadata": {
        "id": "k3jQZlIMJ9xx"
      }
    },
    {
      "cell_type": "code",
      "source": [
        "def insertionSort(arreglo):\n",
        "  \n",
        "  for i in range(1, len(arreglo)):\n",
        "   \n",
        "    elem = arreglo[i] #Variable que guarda el elemento en la posicion de la fila\n",
        "    j = i\n",
        "   \n",
        "    #Si los elementos están desordenados y existe un predecesor entran al ciclo\n",
        "    while(j > 0 and arreglo[j - 1] > elem):\n",
        "      #Intercambio de posiciones entre los elementos\n",
        "      arreglo[j], arreglo[j - 1]= arreglo[j - 1], arreglo[j]\n",
        "      j = j - 1\n",
        "\n",
        "  return arreglo      \n",
        "\n",
        "def partition(arreglo, pivote):\n",
        "  largo = len(arreglo)\n",
        "  if(pivote != 0):\n",
        "    #intercambio\n",
        "    arreglo[0], arreglo[pivote] = arreglo[pivote], arreglo[0]\n",
        "    j = 1\n",
        "  for i in range(1, largo)  : \n",
        "    if(arreglo[i] < arreglo[0]):\n",
        "      arreglo[i], arreglo[j] = arreglo[j], arreglo[i]\n",
        "      j+=1\n",
        "\n",
        "  arreglo[0], arreglo[j + 1] = arreglo[j - 1], arreglo[0]\n",
        "  return j - 1\n",
        "\n",
        "\n",
        "\n",
        "       \n",
        "  \n",
        "\n"
      ],
      "metadata": {
        "id": "RyfDa1hTaQJ_"
      },
      "execution_count": 3,
      "outputs": []
    }
  ]
}