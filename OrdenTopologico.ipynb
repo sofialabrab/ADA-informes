{
  "nbformat": 4,
  "nbformat_minor": 0,
  "metadata": {
    "colab": {
      "provenance": [],
      "authorship_tag": "ABX9TyNa+1tWdNZJ9om/G+sLpPyk",
      "include_colab_link": true
    },
    "kernelspec": {
      "name": "python3",
      "display_name": "Python 3"
    },
    "language_info": {
      "name": "python"
    }
  },
  "cells": [
    {
      "cell_type": "markdown",
      "metadata": {
        "id": "view-in-github",
        "colab_type": "text"
      },
      "source": [
        "<a href=\"https://colab.research.google.com/github/sofialabrab/ADA-informes/blob/main/OrdenTopologico.ipynb\" target=\"_parent\"><img src=\"https://colab.research.google.com/assets/colab-badge.svg\" alt=\"Open In Colab\"/></a>"
      ]
    },
    {
      "cell_type": "markdown",
      "source": [
        "#**Ordén Topológico**\n",
        "\n",
        "Para entender que es el órden topológico, se debe saber el concepto de **grafo**,\n",
        "\n",
        "Un *Grafo* es un tipo de dato abstracto, que contiene un conjunto de nodos, los cuales representan a los vértices y también esta compuesto por arcos(aristas)\n",
        "Este algoritmo busca encontrar una secuencia.\n",
        "\n",
        "Ahora sabiendo esto, podemos entender que el algoritmo de orden topológico, busca encontrar la acomodación de los vértices de un grafo acíclico dirigido.\n",
        "El Ordenamiento topológico se define G que es un grafo con sus vertice y arcos.\n",
        "\n",
        "Por lo que, buscamos **una secuencia** para poder resolver nuestros problemas que cumpla con las siguiente restricción que, a cada vértice $v$ de un grafo $G$ se le asigne $f(v)$, al que para cada arco $(v,w)\\in E$, se cumple que $f(v)<f(w)$.\n",
        "\n",
        "\n",
        "\n",
        "\n",
        "\n"
      ],
      "metadata": {
        "id": "CNTfHb5iPG0k"
      }
    },
    {
      "cell_type": "markdown",
      "source": [
        "##**Pasos del Algoritmo**\n",
        "\n",
        "\n",
        "Tenemos que tener bien en cuenta que el orden topologico trabaja con grafos **dirigidos acíclicos**, este funciona en base a búsquedas a profundidad de los nodos \n",
        "no explorados , **DFS**, por cada búsqueda que realiza hace un recorrido post.órden, el cual consiste en recorrer primero las hojas y luego los ancestros) y luego, cada vez que visita un nodo, este queda con una **etiqueta**, la cual consiste en un contador decreciente que va a ser inicializado la cantidad total de nodos.\n",
        "El algoritmo de orden topológico realiza varias búsquedas en profundidad(DFS) a partir de nodos no explorados, en cada búsqueda realiza un recorrido post-orden(recorre primero las hojas y después los ancestros), cada vez que se visita un nodo se etiqueta con un contador decreciente que es inicializado con el total de nodos.\n",
        "\n",
        "Por lo que, los pasos que realizará este algoritmo serán:\n",
        "1. Se debe crear una pila, esta cumplirá la función de guardar el órden de los nodos. \n",
        "2. Se debe llamar a la función **DFS**\n",
        "3. Se guardará el nodo actual en la pila.\n",
        "4. Ya al finalizar, cuando estén todos los nodos **etiquetados**, se debe retornar la pila.\n"
      ],
      "metadata": {
        "id": "jiJSD4Q6Rdp-"
      }
    }
  ]
}