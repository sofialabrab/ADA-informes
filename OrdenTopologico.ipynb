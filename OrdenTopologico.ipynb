{
  "nbformat": 4,
  "nbformat_minor": 0,
  "metadata": {
    "colab": {
      "provenance": [],
      "authorship_tag": "ABX9TyM/vNDbryRntzyanfjPVlzr",
      "include_colab_link": true
    },
    "kernelspec": {
      "name": "python3",
      "display_name": "Python 3"
    },
    "language_info": {
      "name": "python"
    }
  },
  "cells": [
    {
      "cell_type": "markdown",
      "metadata": {
        "id": "view-in-github",
        "colab_type": "text"
      },
      "source": [
        "<a href=\"https://colab.research.google.com/github/sofialabrab/ADA-informes/blob/main/OrdenTopologico.ipynb\" target=\"_parent\"><img src=\"https://colab.research.google.com/assets/colab-badge.svg\" alt=\"Open In Colab\"/></a>"
      ]
    },
    {
      "cell_type": "markdown",
      "source": [
        "#**Ordén Topológico**\n",
        "\n",
        "Para entender que es el órden topológico, se debe saber el concepto de **grafo**,\n",
        "\n",
        "Un *Grafo* es un tipo de dato abstracto, que contiene un conjunto de nodos, los cuales representan a los vértices y también esta compuesto por arcos(aristas)\n",
        "Este algoritmo busca encontrar una secuencia.\n",
        "\n",
        "Ahora sabiendo esto, podemos entender que el algoritmo de orden topológico, busca encontrar la acomodación de los vértices de un grafo acíclico dirigido.\n",
        "El Ordenamiento topológico se define G que es un grafo con sus vertice y arcos.\n",
        "\n",
        "Por lo que, buscamos **una secuencia** para poder resolver nuestros problemas que cumpla con las siguiente restricción que, a cada vértice $v$ de un grafo $G$ se le asigne $f(v)$, al que para cada arco $(v,w)\\in E$, se cumple que $f(v)<f(w)$.\n",
        "\n",
        "\n",
        "\n",
        "\n",
        "\n"
      ],
      "metadata": {
        "id": "CNTfHb5iPG0k"
      }
    },
    {
      "cell_type": "markdown",
      "source": [
        "##**Pasos del Algoritmo**\n",
        "\n",
        "\n",
        "Tenemos que tener bien en cuenta que el orden topologico trabaja con grafos **dirigidos acíclicos**, este funciona en base a búsquedas a profundidad de los nodos \n",
        "no explorados , **DFS**, por cada búsqueda que realiza hace un recorrido post.órden, el cual consiste en recorrer primero las hojas y luego los ancestros) y luego, cada vez que visita un nodo, este queda con una **etiqueta**, la cual consiste en un contador decreciente que va a ser inicializado la cantidad total de nodos.\n",
        "El algoritmo de orden topológico realiza varias búsquedas en profundidad(DFS) a partir de nodos no explorados, en cada búsqueda realiza un recorrido post-orden(recorre primero las hojas y después los ancestros), cada vez que se visita un nodo se etiqueta con un contador decreciente que es inicializado con el total de nodos.\n",
        "\n",
        "Por lo que, los pasos que realizará este algoritmo serán:\n",
        "1. Se debe crear una pila, esta cumplirá la función de guardar el órden de los nodos. \n",
        "2. Se debe llamar a la función **DFS**\n",
        "3. Se guardará el nodo actual en la pila.\n",
        "4. Ya al finalizar, cuando estén todos los nodos **etiquetados**, se debe retornar la pila.\n"
      ],
      "metadata": {
        "id": "jiJSD4Q6Rdp-"
      }
    },
    {
      "cell_type": "markdown",
      "source": [
        "###**Funciones necesarias**\n"
      ],
      "metadata": {
        "id": "RNZYBEC9FctN"
      }
    },
    {
      "cell_type": "code",
      "source": [
        "from collections import defaultdict\n",
        "import math\n",
        "import random\n",
        "from collections import defaultdict\n",
        "import networkx as nx\n",
        "\n",
        "# Crea un grafo sin ciclos de nodos de 0 a V - 1\n",
        "# Retorna un dicionario [defaultdict(list)] \n",
        "# de key valor del nodo (0 a V - 1) y de value una \n",
        "# lista con los nodos a los cuales se conecta\n",
        "def graph_instance_creator(V):\n",
        "  nodes = random.sample(range(0, V), V)\n",
        "  div = int(math.ceil(V / 4))\n",
        "\n",
        "  current_div = div\n",
        "  graph = defaultdict(list)\n",
        "  for i in reversed(range(len(nodes))):\n",
        "    selectables = []\n",
        "    if (len(nodes) - current_div <= 0):\n",
        "      selectables = random.sample(nodes, random.randint(1, len(nodes)))\n",
        "    else:\n",
        "      population = nodes[:len(nodes)-current_div]\n",
        "      end = len(population) if len(population) < 4 else 4\n",
        "      selectables = random.sample(population, random.randint(1, end))\n",
        "    for selectable in selectables:\n",
        "      if (nodes[i] != selectable and not selectable in graph[nodes[i]]):\n",
        "        graph[nodes[i]].append(selectable)\n",
        "    if (i < len(nodes) - current_div):\n",
        "      current_div += div\n",
        "\n",
        "  return graph\n",
        "\n",
        "\n",
        "\n",
        "  # Recibe un grafo de tipo [defaultdict(list)]\n",
        "# Retorna un nx.DiGraph de la libreria networkx\n",
        "def graph_to_nxdigraph(graph):\n",
        "  nxdigraph = nx.DiGraph()\n",
        "  for i in graph.keys():\n",
        "    nxdigraph.add_node(i)\n",
        "    for v in graph[i]:\n",
        "      nxdigraph.add_edge(i, v)\n",
        "  return nxdigraph\n",
        "\n",
        "\n",
        "\n",
        "def int_to_alpha(n):\n",
        "  return chr(ord('a') + n)\n",
        "\n",
        "def DFS_recursivo(A, principio, cantidad, listaOrdenada):\n",
        "  A.nodes[principio]['state'] = 1 # Nodo descubierto\n",
        "  adj_list = list(reversed(list(G[principio])))#nodos adayacentes\n",
        "\n",
        "\n",
        "  for adj in adj_list: \n",
        "    if A.nodes[adj]['state'] == 0: #Se llama a dfs recursivamente si no se ha descubierto el nodo para cada nodo adyacente no explorado\n",
        "      listaOrdenada, listaOrdenada = DFS_recursivo(A, adj, listaOrdenada, listaOrdenada, verbose)\n",
        "\n",
        "  A.nodes[principio]['order'] = listaOrdenada # Etiqueta del nodo \n",
        "  A.nodes[principio]['state'] = 2 # nodo visitado\n",
        "  listaOrdenada.append(int_to_alpha(principio)) # Se inserta el nodo\n",
        "\n",
        "  listaOrdenada -= 1 # Disminuimos el contador en 1\n",
        "\n",
        "  # Se retorna la cantidad y la lista ordenada\n",
        "  return cantidad, listaOrdenada"
      ],
      "metadata": {
        "id": "1C_nD__xFxCd"
      },
      "execution_count": 23,
      "outputs": []
    },
    {
      "cell_type": "markdown",
      "source": [
        "### **Código Recursivo**\n",
        "\n"
      ],
      "metadata": {
        "id": "V_CMTfdjFJag"
      }
    },
    {
      "cell_type": "code",
      "source": [
        "def ordTopRe(digrf):\n",
        "  #cantidad de nodos\n",
        "  canti = len(digrf.nodes())\n",
        "  ordTop = list()\n",
        "\n",
        "  for i in digrf.nodes(): # Recorrido nodos\n",
        "    if digrf.nodes[i]['state'] == 0: \n",
        "      # Se aplica DFS con cada nodo no explorado\n",
        "      canti, ordTop = DFS_recursivo(digrf, i, canti, ordTop)\n",
        "  #Invertimos la lista\n",
        "  ordTop.reverse() \n",
        "  return ordTop "
      ],
      "metadata": {
        "id": "w2AGPIgdFTlq"
      },
      "execution_count": 24,
      "outputs": []
    },
    {
      "cell_type": "markdown",
      "source": [
        "###**Código Iterativo**\n"
      ],
      "metadata": {
        "id": "DXIJfs4-FU9n"
      }
    },
    {
      "cell_type": "code",
      "source": [
        "def ordTop(digrf):\n",
        "  #mapa que nos guardara los estados de los nodos\n",
        "  visitado = dict()\n",
        "  for i in digrf:\n",
        "    #inicializamos todos los nodos como no visitados\n",
        "    visitado[i] = \"no\"\n",
        "\n",
        "  #lista que almacenará el orden topologico\n",
        "  ordTop = []\n",
        "  for i in digrf:\n",
        "    pila = [i]\n",
        "    while len(pila) > 0:\n",
        "      i = pila.pop()\n",
        "      if visitado[i] == \"no\":\n",
        "        visitado[i] = \"si\"\n",
        "        pila.append(i)\n",
        "        for adj in reversed(list(digrf[i])):\n",
        "          if visitado[adj] == \"no\": \n",
        "            pila.append(adj)\n",
        "            \n",
        "      elif visitado[i] == \"si\":\n",
        "        visitado[i] = \"si\"\n",
        "        ordTop.append(i)\n",
        "  #Invertir la lista  \n",
        "  ordTop = list(reversed(ordTop))\n",
        "\n",
        "  return ordTop\n",
        "\n",
        "\n",
        "grafo = graph_instance_creator(10)\n",
        "digraph =graph_to_nxdigraph(grafo)\n",
        "\n",
        "ordTop = ordTop(digraph)\n",
        "print(\"El órden topológico es:\" , ordTop)"
      ],
      "metadata": {
        "id": "3hl30rq-FZaR",
        "outputId": "d8129806-6588-41ef-fc93-f0a95edd6fbc",
        "colab": {
          "base_uri": "https://localhost:8080/"
        }
      },
      "execution_count": 25,
      "outputs": [
        {
          "output_type": "stream",
          "name": "stdout",
          "text": [
            "El órden topológico es: [8, 0, 6, 3, 0, 6, 1, 2, 4, 5, 7, 9, 4, 5, 7, 1, 8]\n"
          ]
        }
      ]
    },
    {
      "cell_type": "markdown",
      "source": [
        "##**Tiempo de ejecución**\n",
        "\n",
        "Este algoritmo tiene una complejidad de O(V+E) donde V representa la cantidad de nodos y e representa los vértices.\n",
        "\n",
        "Demostración\n",
        "\n",
        "Este tiempo de ejecución se consigue analizando el código.\n",
        "\n",
        "En la primera parte se crea una pila para almacenar cada nodo, eso tiene un costo de O(v) por causa de que lo guarda solo una vez.\n",
        "\n",
        "También tenemos que recorrer cada nodo que tiene un costo O(e) por causa de que pasamos solo una vez por sus conexiones(arcos).\n",
        "\n",
        "Al hacer una simple suma podemos demostrar que tiene una complejidad de O(V+E)."
      ],
      "metadata": {
        "id": "1GZHE_iOEnoC"
      }
    },
    {
      "cell_type": "markdown",
      "source": [
        "##**Correctitud**\n",
        "\n",
        "Para probar que el algoritmo es correcto nos debemos centrar en la funcion dfs, analizar como funciona\n",
        "\n",
        "En cada iteracion se escoge un nodo padre con sus hijos, explora los hijos revisando si fueron visitados o no visitados.\n",
        "\n",
        "Case base:\n",
        "\n",
        "La cantidad de nodos es 1 por lo que no tiene arcos ni aristas, entonces está sería la solución al problema y para este caso sería correcto.\n",
        "\n",
        "Caso inductivo:\n",
        "\n",
        "Para este caso tenemos que la cantidad de nodos es superior a 1.\n",
        "\n",
        "Tenemos un stack que represente cada nodo, sirve para marcar los nodos visitados, ahora se elige un nodo que es marcado como visitado junto a sus nodos adyacentes, son guardados en la pila, al marcarlos como visitado evitaremos volver a pasar por los mismos nodos. Aunque cada vez que elegimos un nodo vamos a tener dos opciones para resolver este problema la primera es que no tengamos nodos adyacentes, por suerte no es tan complicado este caso porque se guarda el nodo escogido en la pila en el segundo caso que seria cuando el nodo tiene uno o más nodos adyacentes, se resolverá de manera iterativa o recursiva lo que implica que el proceso que se explicó anterior se va a repetir hasta llegar al caso base.\n",
        "\n",
        "Este proceso se va a repetir hasta que todos los nodos del grafo sean marcados como visitado y retorne la pila con el orden topológico, ahora podemos decir con seguridad que el algoritmo es correcto\n",
        "\n",
        "Crearemos una pila temporal que guardara el orden de los nodos\n",
        "Llamamos el DFS de manera recursiva o no recursiva\n",
        "iremos guardando los nodos en la pila generada\n",
        "Una vez recorrido todos los nodos se retorna la pila que representa el orden topológico"
      ],
      "metadata": {
        "id": "BHBXTV7-ExVC"
      }
    },
    {
      "cell_type": "markdown",
      "source": [
        "##**Experimentos**"
      ],
      "metadata": {
        "id": "czgFHwa3KYRz"
      }
    },
    {
      "cell_type": "code",
      "source": [
        "import matplotlib.pyplot as plt\n",
        "import numpy as np\n",
        "from timeit import repeat\n",
        "\n",
        "x=[]; y1=[]; y2=[]\n",
        "\n",
        "for n in range(10,200):\n",
        "  G = graph_instance_creator(n)\n",
        "  G = graph_to_nxdigraph(G)\n",
        "  H = G.copy()\n",
        "\n",
        "  t1 = repeat(setup=\"from __main__ import ordTop\", stmt=lambda: ordTop(G), repeat=1, number=10)\n",
        "  #t2 = repeat(setup=\"from __main__ import topological_sort_recursivo\", stmt=lambda: topological_sort_recursivo(H), repeat=1, number=10)\n",
        "\n",
        "  x.append(n)\n",
        "  y1.append(t1)\n",
        "  #y2.append(t2)\n",
        "\n",
        "plt.plot(x,y1)\n",
        "#plt.plot(x,y2)\n",
        "plt.legend([\"Iterativo\"])\n",
        "\n",
        "plt.xlabel('n')\n",
        "plt.ylabel('Tiempo en ms')\n",
        "plt.show()"
      ],
      "metadata": {
        "id": "CYlvCRLdKae9",
        "outputId": "df37bfdb-10c7-406e-9873-2cf1d0d5f181",
        "colab": {
          "base_uri": "https://localhost:8080/",
          "height": 380
        }
      },
      "execution_count": 22,
      "outputs": [
        {
          "output_type": "error",
          "ename": "TypeError",
          "evalue": "ignored",
          "traceback": [
            "\u001b[0;31m---------------------------------------------------------------------------\u001b[0m",
            "\u001b[0;31mTypeError\u001b[0m                                 Traceback (most recent call last)",
            "\u001b[0;32m<ipython-input-22-78eb6f2e9969>\u001b[0m in \u001b[0;36m<module>\u001b[0;34m\u001b[0m\n\u001b[1;32m     10\u001b[0m   \u001b[0mH\u001b[0m \u001b[0;34m=\u001b[0m \u001b[0mG\u001b[0m\u001b[0;34m.\u001b[0m\u001b[0mcopy\u001b[0m\u001b[0;34m(\u001b[0m\u001b[0;34m)\u001b[0m\u001b[0;34m\u001b[0m\u001b[0;34m\u001b[0m\u001b[0m\n\u001b[1;32m     11\u001b[0m \u001b[0;34m\u001b[0m\u001b[0m\n\u001b[0;32m---> 12\u001b[0;31m   \u001b[0mt1\u001b[0m \u001b[0;34m=\u001b[0m \u001b[0mrepeat\u001b[0m\u001b[0;34m(\u001b[0m\u001b[0msetup\u001b[0m\u001b[0;34m=\u001b[0m\u001b[0;34m\"from __main__ import ordTop\"\u001b[0m\u001b[0;34m,\u001b[0m \u001b[0mstmt\u001b[0m\u001b[0;34m=\u001b[0m\u001b[0;32mlambda\u001b[0m\u001b[0;34m:\u001b[0m \u001b[0mordTop\u001b[0m\u001b[0;34m(\u001b[0m\u001b[0mG\u001b[0m\u001b[0;34m)\u001b[0m\u001b[0;34m,\u001b[0m \u001b[0mrepeat\u001b[0m\u001b[0;34m=\u001b[0m\u001b[0;36m1\u001b[0m\u001b[0;34m,\u001b[0m \u001b[0mnumber\u001b[0m\u001b[0;34m=\u001b[0m\u001b[0;36m10\u001b[0m\u001b[0;34m)\u001b[0m\u001b[0;34m\u001b[0m\u001b[0;34m\u001b[0m\u001b[0m\n\u001b[0m\u001b[1;32m     13\u001b[0m   \u001b[0;31m#t2 = repeat(setup=\"from __main__ import topological_sort_recursivo\", stmt=lambda: topological_sort_recursivo(H), repeat=1, number=10)\u001b[0m\u001b[0;34m\u001b[0m\u001b[0;34m\u001b[0m\u001b[0;34m\u001b[0m\u001b[0m\n\u001b[1;32m     14\u001b[0m \u001b[0;34m\u001b[0m\u001b[0m\n",
            "\u001b[0;32m/usr/lib/python3.7/timeit.py\u001b[0m in \u001b[0;36mrepeat\u001b[0;34m(stmt, setup, timer, repeat, number, globals)\u001b[0m\n\u001b[1;32m    236\u001b[0m            repeat=default_repeat, number=default_number, globals=None):\n\u001b[1;32m    237\u001b[0m     \u001b[0;34m\"\"\"Convenience function to create Timer object and call repeat method.\"\"\"\u001b[0m\u001b[0;34m\u001b[0m\u001b[0;34m\u001b[0m\u001b[0m\n\u001b[0;32m--> 238\u001b[0;31m     \u001b[0;32mreturn\u001b[0m \u001b[0mTimer\u001b[0m\u001b[0;34m(\u001b[0m\u001b[0mstmt\u001b[0m\u001b[0;34m,\u001b[0m \u001b[0msetup\u001b[0m\u001b[0;34m,\u001b[0m \u001b[0mtimer\u001b[0m\u001b[0;34m,\u001b[0m \u001b[0mglobals\u001b[0m\u001b[0;34m)\u001b[0m\u001b[0;34m.\u001b[0m\u001b[0mrepeat\u001b[0m\u001b[0;34m(\u001b[0m\u001b[0mrepeat\u001b[0m\u001b[0;34m,\u001b[0m \u001b[0mnumber\u001b[0m\u001b[0;34m)\u001b[0m\u001b[0;34m\u001b[0m\u001b[0;34m\u001b[0m\u001b[0m\n\u001b[0m\u001b[1;32m    239\u001b[0m \u001b[0;34m\u001b[0m\u001b[0m\n\u001b[1;32m    240\u001b[0m \u001b[0;32mdef\u001b[0m \u001b[0mmain\u001b[0m\u001b[0;34m(\u001b[0m\u001b[0margs\u001b[0m\u001b[0;34m=\u001b[0m\u001b[0;32mNone\u001b[0m\u001b[0;34m,\u001b[0m \u001b[0;34m*\u001b[0m\u001b[0;34m,\u001b[0m \u001b[0m_wrap_timer\u001b[0m\u001b[0;34m=\u001b[0m\u001b[0;32mNone\u001b[0m\u001b[0;34m)\u001b[0m\u001b[0;34m:\u001b[0m\u001b[0;34m\u001b[0m\u001b[0;34m\u001b[0m\u001b[0m\n",
            "\u001b[0;32m/usr/lib/python3.7/timeit.py\u001b[0m in \u001b[0;36mrepeat\u001b[0;34m(self, repeat, number)\u001b[0m\n\u001b[1;32m    203\u001b[0m         \u001b[0mr\u001b[0m \u001b[0;34m=\u001b[0m \u001b[0;34m[\u001b[0m\u001b[0;34m]\u001b[0m\u001b[0;34m\u001b[0m\u001b[0;34m\u001b[0m\u001b[0m\n\u001b[1;32m    204\u001b[0m         \u001b[0;32mfor\u001b[0m \u001b[0mi\u001b[0m \u001b[0;32min\u001b[0m \u001b[0mrange\u001b[0m\u001b[0;34m(\u001b[0m\u001b[0mrepeat\u001b[0m\u001b[0;34m)\u001b[0m\u001b[0;34m:\u001b[0m\u001b[0;34m\u001b[0m\u001b[0;34m\u001b[0m\u001b[0m\n\u001b[0;32m--> 205\u001b[0;31m             \u001b[0mt\u001b[0m \u001b[0;34m=\u001b[0m \u001b[0mself\u001b[0m\u001b[0;34m.\u001b[0m\u001b[0mtimeit\u001b[0m\u001b[0;34m(\u001b[0m\u001b[0mnumber\u001b[0m\u001b[0;34m)\u001b[0m\u001b[0;34m\u001b[0m\u001b[0;34m\u001b[0m\u001b[0m\n\u001b[0m\u001b[1;32m    206\u001b[0m             \u001b[0mr\u001b[0m\u001b[0;34m.\u001b[0m\u001b[0mappend\u001b[0m\u001b[0;34m(\u001b[0m\u001b[0mt\u001b[0m\u001b[0;34m)\u001b[0m\u001b[0;34m\u001b[0m\u001b[0;34m\u001b[0m\u001b[0m\n\u001b[1;32m    207\u001b[0m         \u001b[0;32mreturn\u001b[0m \u001b[0mr\u001b[0m\u001b[0;34m\u001b[0m\u001b[0;34m\u001b[0m\u001b[0m\n",
            "\u001b[0;32m/usr/lib/python3.7/timeit.py\u001b[0m in \u001b[0;36mtimeit\u001b[0;34m(self, number)\u001b[0m\n\u001b[1;32m    175\u001b[0m         \u001b[0mgc\u001b[0m\u001b[0;34m.\u001b[0m\u001b[0mdisable\u001b[0m\u001b[0;34m(\u001b[0m\u001b[0;34m)\u001b[0m\u001b[0;34m\u001b[0m\u001b[0;34m\u001b[0m\u001b[0m\n\u001b[1;32m    176\u001b[0m         \u001b[0;32mtry\u001b[0m\u001b[0;34m:\u001b[0m\u001b[0;34m\u001b[0m\u001b[0;34m\u001b[0m\u001b[0m\n\u001b[0;32m--> 177\u001b[0;31m             \u001b[0mtiming\u001b[0m \u001b[0;34m=\u001b[0m \u001b[0mself\u001b[0m\u001b[0;34m.\u001b[0m\u001b[0minner\u001b[0m\u001b[0;34m(\u001b[0m\u001b[0mit\u001b[0m\u001b[0;34m,\u001b[0m \u001b[0mself\u001b[0m\u001b[0;34m.\u001b[0m\u001b[0mtimer\u001b[0m\u001b[0;34m)\u001b[0m\u001b[0;34m\u001b[0m\u001b[0;34m\u001b[0m\u001b[0m\n\u001b[0m\u001b[1;32m    178\u001b[0m         \u001b[0;32mfinally\u001b[0m\u001b[0;34m:\u001b[0m\u001b[0;34m\u001b[0m\u001b[0;34m\u001b[0m\u001b[0m\n\u001b[1;32m    179\u001b[0m             \u001b[0;32mif\u001b[0m \u001b[0mgcold\u001b[0m\u001b[0;34m:\u001b[0m\u001b[0;34m\u001b[0m\u001b[0;34m\u001b[0m\u001b[0m\n",
            "\u001b[0;32m/usr/lib/python3.7/timeit.py\u001b[0m in \u001b[0;36minner\u001b[0;34m(_it, _timer, _stmt)\u001b[0m\n",
            "\u001b[0;32m<ipython-input-22-78eb6f2e9969>\u001b[0m in \u001b[0;36m<lambda>\u001b[0;34m()\u001b[0m\n\u001b[1;32m     10\u001b[0m   \u001b[0mH\u001b[0m \u001b[0;34m=\u001b[0m \u001b[0mG\u001b[0m\u001b[0;34m.\u001b[0m\u001b[0mcopy\u001b[0m\u001b[0;34m(\u001b[0m\u001b[0;34m)\u001b[0m\u001b[0;34m\u001b[0m\u001b[0;34m\u001b[0m\u001b[0m\n\u001b[1;32m     11\u001b[0m \u001b[0;34m\u001b[0m\u001b[0m\n\u001b[0;32m---> 12\u001b[0;31m   \u001b[0mt1\u001b[0m \u001b[0;34m=\u001b[0m \u001b[0mrepeat\u001b[0m\u001b[0;34m(\u001b[0m\u001b[0msetup\u001b[0m\u001b[0;34m=\u001b[0m\u001b[0;34m\"from __main__ import ordTop\"\u001b[0m\u001b[0;34m,\u001b[0m \u001b[0mstmt\u001b[0m\u001b[0;34m=\u001b[0m\u001b[0;32mlambda\u001b[0m\u001b[0;34m:\u001b[0m \u001b[0mordTop\u001b[0m\u001b[0;34m(\u001b[0m\u001b[0mG\u001b[0m\u001b[0;34m)\u001b[0m\u001b[0;34m,\u001b[0m \u001b[0mrepeat\u001b[0m\u001b[0;34m=\u001b[0m\u001b[0;36m1\u001b[0m\u001b[0;34m,\u001b[0m \u001b[0mnumber\u001b[0m\u001b[0;34m=\u001b[0m\u001b[0;36m10\u001b[0m\u001b[0;34m)\u001b[0m\u001b[0;34m\u001b[0m\u001b[0;34m\u001b[0m\u001b[0m\n\u001b[0m\u001b[1;32m     13\u001b[0m   \u001b[0;31m#t2 = repeat(setup=\"from __main__ import topological_sort_recursivo\", stmt=lambda: topological_sort_recursivo(H), repeat=1, number=10)\u001b[0m\u001b[0;34m\u001b[0m\u001b[0;34m\u001b[0m\u001b[0;34m\u001b[0m\u001b[0m\n\u001b[1;32m     14\u001b[0m \u001b[0;34m\u001b[0m\u001b[0m\n",
            "\u001b[0;31mTypeError\u001b[0m: 'list' object is not callable"
          ]
        }
      ]
    }
  ]
}