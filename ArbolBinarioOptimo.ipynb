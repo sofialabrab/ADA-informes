{
  "nbformat": 4,
  "nbformat_minor": 0,
  "metadata": {
    "colab": {
      "provenance": [],
      "collapsed_sections": [],
      "authorship_tag": "ABX9TyMOihcWTL2Lw/8sqAisv7hb",
      "include_colab_link": true
    },
    "kernelspec": {
      "name": "python3",
      "display_name": "Python 3"
    },
    "language_info": {
      "name": "python"
    }
  },
  "cells": [
    {
      "cell_type": "markdown",
      "metadata": {
        "id": "view-in-github",
        "colab_type": "text"
      },
      "source": [
        "<a href=\"https://colab.research.google.com/github/sofialabrab/ADA-informes/blob/main/ArbolBinarioOptimo.ipynb\" target=\"_parent\"><img src=\"https://colab.research.google.com/assets/colab-badge.svg\" alt=\"Open In Colab\"/></a>"
      ]
    },
    {
      "cell_type": "markdown",
      "source": [
        "# **Arbol Binario de Busqueda Optimo**\n",
        "\n",
        "Árbol binario de busqueda optimo, consistirá en realizar a partir de una secuencia ordenada de de n palabras construir un árbol binario con estas palabras.\n",
        "\n",
        "Donde tendremos que:\n",
        "\n",
        "\n",
        "\n",
        "> **Secuencia de palabras: $ K = <k1, k2, ..., kn>$**\n",
        "\n",
        "\n",
        "```\n",
        "IMPORTANTE:\n",
        "\n",
        "k1 < k2 < .. < kn\n",
        "\n",
        "```\n",
        "\n",
        "\n",
        "> **Claves ficticias:** Es probable, que algunas palabras buscadas no se encuentren en K, por lo que tendremos n + 1, **claves ficticias** o **pseudo palabras** $d0, d1, d2,..., dn$, estos representan búsquedas fallidas, dado que representan palabras que no están en K.\n",
        "\n",
        "\n",
        "\n",
        "\n",
        "```\n",
        "d0 : representa todos los valores menores a k1\n",
        "dn: representa todos los valores mayores que kn.\n",
        "```\n",
        "\n",
        "**Probabilidades :**\n",
        "\n",
        "Cada clave ki y di tiene su probabilidad de ser buscada y la suma de esto debe ser 1.\n",
        "\n",
        "\n",
        "> Cada clave $k_i$ tiene una probabilidad $p_i$ de ser buscada.\n",
        "\n",
        "\n",
        ">  Cada clave $d_i$ tiene una probabilidad $q_i$ de ser buscada.\n",
        "\n",
        "\n",
        "$\\sum\\limits_{i=1}^n p_i + \\sum\\limits_{j=0}^n q_i = 1$\n",
        "\n",
        "\n",
        "\n",
        "Este problema se clasifica como uno de ***optimización*** , debido que el objetivo principal que encontraremos es ***minimizar*** el costo esperado, el cual es la cantidad promedio de nodos visitados.\n",
        "\n",
        "Para calcular el costo esperado será: la sumatoria de todos los nodos, donde será $p_i$, la probabilidad de ser buscado por $c_i$, que será el costo de el nodo actual. Para saber el valor de $ci$ = h + 1, donde h será su altura. \n",
        "\n",
        "\n",
        "$\\sum\\limits_{i=1}^n p_i * c_i + \\sum\\limits_{j=0}^n q_i * c_i$\n",
        "\n",
        "\n",
        "\n",
        "> **Importante:** En la sumatoria de p_i * c_i, la altura calculada en c_i es la altura del nodo ki. Y en la sumatoria de q_i * c_i, la altura de c_i la altura, es del nodo d_i.\n"
      ],
      "metadata": {
        "id": "1NQhiW3MtP7x"
      }
    },
    {
      "cell_type": "markdown",
      "source": [],
      "metadata": {
        "id": "MncX_3Ei3tpD"
      }
    }
  ]
}