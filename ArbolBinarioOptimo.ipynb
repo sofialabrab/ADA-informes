{
  "nbformat": 4,
  "nbformat_minor": 0,
  "metadata": {
    "colab": {
      "provenance": [],
      "collapsed_sections": [],
      "authorship_tag": "ABX9TyPWFTO44zQoi9TJZ5RxjEP5",
      "include_colab_link": true
    },
    "kernelspec": {
      "name": "python3",
      "display_name": "Python 3"
    },
    "language_info": {
      "name": "python"
    }
  },
  "cells": [
    {
      "cell_type": "markdown",
      "metadata": {
        "id": "view-in-github",
        "colab_type": "text"
      },
      "source": [
        "<a href=\"https://colab.research.google.com/github/sofialabrab/ADA-informes/blob/main/ArbolBinarioOptimo.ipynb\" target=\"_parent\"><img src=\"https://colab.research.google.com/assets/colab-badge.svg\" alt=\"Open In Colab\"/></a>"
      ]
    },
    {
      "cell_type": "markdown",
      "source": [
        "# **Arbol Binario de Busqueda Optimo**\n",
        "\n",
        "Árbol binario de busqueda optimo, consistirá en realizar a partir de una secuencia ordenada de de n palabras construir un árbol binario con estas palabras.\n",
        "\n",
        "Donde tendremos que:\n",
        "\n",
        "\n",
        "\n",
        "> **Secuencia de palabras: $ K = <k1, k2, ..., kn>$**\n",
        "\n",
        "\n",
        "```\n",
        "IMPORTANTE:\n",
        "\n",
        "k1 < k2 < .. < kn\n",
        "\n",
        "```\n",
        "\n",
        "\n",
        "> **Claves ficticias:** Es probable, que algunas palabras buscadas no se encuentren en K, por lo que tendremos n + 1, **claves ficticias** o **pseudo palabras** $d0, d1, d2,..., dn$, estos representan búsquedas fallidas, dado que representan palabras que no están en K.\n",
        "\n",
        "\n",
        "\n",
        "\n",
        "```\n",
        "d0 : representa todos los valores menores a k1\n",
        "dn: representa todos los valores mayores que kn.\n",
        "```\n",
        "\n",
        "**Probabilidades :**\n",
        "\n",
        "Cada clave ki y di tiene su probabilidad de ser buscada y la suma de esto debe ser 1.\n",
        "\n",
        "\n",
        "> Cada clave $k_i$ tiene una probabilidad $p_i$ de ser buscada.\n",
        "\n",
        "\n",
        ">  Cada clave $d_i$ tiene una probabilidad $q_i$ de ser buscada.\n",
        "\n",
        "\n",
        "$\\sum\\limits_{i=1}^n p_i + \\sum\\limits_{j=0}^n q_i = 1$\n",
        "\n",
        "\n",
        "\n",
        "Este problema se clasifica como uno de ***optimización*** , debido que el objetivo principal que encontraremos es ***minimizar*** el costo esperado, el cual es la cantidad promedio de nodos visitados.\n",
        "\n",
        "Para calcular el costo esperado será: la sumatoria de todos los nodos, donde será $p_i$, la probabilidad de ser buscado por $c_i$, que será el costo de el nodo actual. Para saber el valor de $ci$ = h + 1, donde h será su altura. \n",
        "\n",
        "\n",
        "$\\sum\\limits_{i=1}^n p_i * c_i + \\sum\\limits_{j=0}^n q_i * c_i$\n",
        "\n",
        "\n",
        "\n",
        "> **Importante:** En la sumatoria de p_i * c_i, la altura calculada en c_i es la altura del nodo ki. Y en la sumatoria de q_i * c_i, la altura de c_i la altura, es del nodo d_i.\n"
      ],
      "metadata": {
        "id": "1NQhiW3MtP7x"
      }
    },
    {
      "cell_type": "code",
      "source": [],
      "metadata": {
        "id": "t1wbljUZ9KqM"
      },
      "execution_count": null,
      "outputs": []
    },
    {
      "cell_type": "markdown",
      "source": [
        "## **Bottom-up**"
      ],
      "metadata": {
        "id": "MncX_3Ei3tpD"
      }
    },
    {
      "cell_type": "code",
      "source": [
        "import numpy as np\n",
        "def arbolbottom(k, p, largo):\n",
        "\n",
        "  costoEsperado = np.zeros((largo + 2, largo + 2))\n",
        "  prob = np.zeros((largo + 2, largo + 2))\n",
        " \n",
        "  print(\"a\")\n",
        "  for i in range (1, largo + 1):\n",
        "    for j in range (1, largo + 1):\n",
        "\n",
        "      #casos principales\n",
        "      if(i <= largo):\n",
        "        costoEsperado[i][i] = p[i]\n",
        "        prob[i][i] = p[i]\n",
        "      if(i > j):\n",
        "        costoEsperado[i][j] = 0\n",
        "\n",
        "      costo = prob[i][j] + costoEsperado[i][] + costoEsperado[][] \n",
        "\n",
        "\n",
        "\n",
        "  return costoEsperado, prob\n",
        "\n",
        "\n",
        "\n",
        "\n",
        "\n",
        "\n",
        "\n",
        "k = [1, 2, 3, 4]\n",
        "p = [0, 0.6, 0.3, 0.2, 0.7]\n",
        "largo = len(k)\n",
        "costoEsperado , prob= arbolbottom(k,p, largo)\n",
        "#costoEsperado\n",
        "print(prob)"
      ],
      "metadata": {
        "colab": {
          "base_uri": "https://localhost:8080/",
          "height": 130
        },
        "id": "t1wBWTXJpPDs",
        "outputId": "4184102c-b4fe-452a-f712-f54b19c67ec8"
      },
      "execution_count": 28,
      "outputs": [
        {
          "output_type": "error",
          "ename": "SyntaxError",
          "evalue": "ignored",
          "traceback": [
            "\u001b[0;36m  File \u001b[0;32m\"<ipython-input-28-db487d085386>\"\u001b[0;36m, line \u001b[0;32m18\u001b[0m\n\u001b[0;31m    costo = prob[i][j] + costoEsperado[i][] + costoEsperado[][]\u001b[0m\n\u001b[0m                                          ^\u001b[0m\n\u001b[0;31mSyntaxError\u001b[0m\u001b[0;31m:\u001b[0m invalid syntax\n"
          ]
        }
      ]
    }
  ]
}