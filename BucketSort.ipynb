{
  "nbformat": 4,
  "nbformat_minor": 0,
  "metadata": {
    "colab": {
      "provenance": [],
      "authorship_tag": "ABX9TyM05gfxaCfLZCPe6ZO78Pi+",
      "include_colab_link": true
    },
    "kernelspec": {
      "name": "python3",
      "display_name": "Python 3"
    },
    "language_info": {
      "name": "python"
    }
  },
  "cells": [
    {
      "cell_type": "markdown",
      "metadata": {
        "id": "view-in-github",
        "colab_type": "text"
      },
      "source": [
        "<a href=\"https://colab.research.google.com/github/sofialabrab/ADA-informes/blob/main/BucketSort.ipynb\" target=\"_parent\"><img src=\"https://colab.research.google.com/assets/colab-badge.svg\" alt=\"Open In Colab\"/></a>"
      ]
    },
    {
      "cell_type": "markdown",
      "source": [
        "# **BUCKET SORT**\n",
        "Es un algoritmo que busca ordenar un determinado grupo de datos, el tipo de este algoritmo es de **clasificación**, se caracteriza por dividir el arreglo original en varios grupos de manera uniforme, los cuales se denominan, ***cubos*** y estos se ordenaran mediante otro algoritmo de clasificación, que en este caso, utilizaremos **Insertion Sort.**\n",
        "\n",
        "Este método se usa normalmente para los siguientes casos:\n",
        "\n",
        "1.   Con valores de punto flotante.\n",
        "2.   Cuando la entrada se distribuye uniformemente en un rango.\n"
      ],
      "metadata": {
        "id": "yPXoYAyvWv7Q"
      }
    },
    {
      "cell_type": "markdown",
      "source": [
        "![image.png](data:image/png;base64,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)"
      ],
      "metadata": {
        "id": "biQol4R8g9xx"
      }
    },
    {
      "cell_type": "markdown",
      "source": [
        "## **VENTAJAS Y DESVENTAJAS**\n",
        "\n",
        "**Ventajas:**\n",
        "1. Contiene un menor número de comparaciones, a diferencia de algoritmos de ordenamiento estudiados anteriormente.\n",
        "La clasificación de cubos reduce el número. de comparaciones.\n",
        "2. Dado que contiene una distribución uniforme de los elementos, su tiempo de compilación resulta ser rápido.\n",
        "\n",
        "**Desventajas:**\n",
        "1. No es eficiente para cualquier arreglo, debido que mientras más grande el tamaño del arreglo, nos acercamos al peor caso relacionado con su tiempo de ejecución.\n",
        "2. Requiere de un algoritmo de clasificación adicional."
      ],
      "metadata": {
        "id": "HmIoeukFg40e"
      }
    },
    {
      "cell_type": "markdown",
      "source": [
        "## **PASOS DEL ALGORITMO**\n",
        "\n",
        "\n",
        "\n",
        "1.   El primer paso será dividir los rangos de los números, para poder tener un número fijo de cubos. \n",
        "2.  Se debe ingresar cada elemento en su cubo asociado.\n",
        "3. Mediante el algoritmo de Insertion Sort, se irán ordenando individualmente los cubos.\n",
        "4. Cuando todos los cubos estén ordenados, estos se concatenarán al arreglo que mostrará los datos ingresados ordenados.\n",
        "\n",
        "\n"
      ],
      "metadata": {
        "id": "Lo17BCS_dGU2"
      }
    },
    {
      "cell_type": "markdown",
      "source": [
        "### **Ejemplo**\n",
        "\n",
        "Para demostrar como funciona el algoritmo, realizaremos un ejemplo:\n",
        "Donde el conjunto de datos a ordenar será: \n",
        "\n",
        "\n",
        "> ***Entrada :*** [0.5, 0.7, 0.3, 0.6, 0.15, 0.2 , 0.8, 0.13, 0.5]\n",
        "\n",
        "\n",
        "\n",
        "> ***Tamaño***: 9 datos, organizados entre las posiciones 0 y 8.\n",
        "\n",
        "\n",
        "\n",
        ">***Salida esperada:*** [0.13, 0.15, 0.2, 0.3, 0.5, 0.5, 0.6, 0.7, 0.8]\n",
        "\n",
        "\n",
        "\n",
        "\n",
        "\n"
      ],
      "metadata": {
        "id": "BYD5r4Q3ovNg"
      }
    },
    {
      "cell_type": "code",
      "source": [
        "def insertionSort(bucket):\n",
        "    for i in range (1, len (bucket)):\n",
        "        num = bucket[i]\n",
        "        j = i - 1\n",
        "        while (j >= 0 and num < bucket[j]):\n",
        "            bucket[j + 1] = bucket[j]\n",
        "            j = j - 1\n",
        "        bucket[j + 1] = num\n",
        "\n",
        "\n",
        "def bucketSort(arreglo, verbose):\n",
        "\n",
        "    buckets= []\n",
        "    arrOrd = []\n",
        "    # Find maximum value in the list and use length of the list to determine which value in the list goes into which bucket \n",
        "    #Buscamos el mayor núm que contiene este arreglo, para asi poder determinar que elemento va en que cubo \n",
        "    maxNum = max(arreglo)\n",
        "    size = maxNum/len(arreglo)\n",
        "\n",
        "    # Cree n cubos vacíos donde n es igual a la longitud de la lista de entrada\n",
        "\n",
        "    for i in range(len(arreglo)):\n",
        "        buckets.append([]) \n",
        "\n",
        "    # Coloque los elementos de la lista en diferentes cubos según el tamaño\n",
        "    for i in range(len(arreglo)): \n",
        "        j = int (arreglo[i] / size)\n",
        "        if j != len (arreglo):\n",
        "            buckets[j].append(arreglo[i])\n",
        "        else:\n",
        "            buckets[len(arreglo) - 1].append(arreglo[i])\n",
        "    \n",
        "    if(verbose == True):\n",
        "       print(\"Buckets creados:\",  buckets, \"\\n\")   \n",
        "\n",
        "    # Sort elements within the buckets using Insertion Sort\n",
        "    for i in range(len(arreglo)):\n",
        "        insertionSort(buckets[i])\n",
        "        if(verbose == True):\n",
        "          if(i == 0):\n",
        "            print(\"---- Insertion Sort-----\")\n",
        "          print(\"Bucket\", i + 1,\"ordenado\", buckets[i], \"\\n\")\n",
        "          if(i == len(arreglo) - 1):\n",
        "            print(\"-------------------------\")\n",
        "            \n",
        "    # Concatenate buckets with sorted elements into a single list\n",
        "    for i in range(len (arreglo)):\n",
        "        arrOrd = arrOrd + buckets[i]\n",
        "        if(verbose == True):\n",
        "          print(\"Concatenación de buckets:\" , arrOrd)\n",
        "    return arrOrd      \n",
        "            \n",
        "\n",
        "arreglo = [0.5, 0.7, 0.3, 0.6, 0.15, 0.2 , 0.8, 0.13, 0.5]\n",
        "print(\"Arreglo inicial: \", arreglo)\n",
        "print(\"Arreglo ordenado: \", bucketSort(arreglo, verbose = False))\n"
      ],
      "metadata": {
        "colab": {
          "base_uri": "https://localhost:8080/"
        },
        "id": "iC3gLdE0XgzG",
        "outputId": "b0bc20e4-8252-433c-a7d6-88ad166a65c7"
      },
      "execution_count": 67,
      "outputs": [
        {
          "output_type": "stream",
          "name": "stdout",
          "text": [
            "Arreglo inicial:  [0.5, 0.7, 0.3, 0.6, 0.15, 0.2, 0.8, 0.13, 0.5]\n",
            "Arreglo ordenado:  [0.13, 0.15, 0.2, 0.3, 0.5, 0.5, 0.6, 0.7, 0.8]\n"
          ]
        }
      ]
    },
    {
      "cell_type": "markdown",
      "source": [
        "**Paso a Paso del ejemplo:**"
      ],
      "metadata": {
        "id": "OwezohawpXFz"
      }
    },
    {
      "cell_type": "code",
      "source": [
        "arreglo =  [0.5, 0.7, 0.3, 0.6, 0.15, 0.2, 0.8, 0.13, 0.5]\n",
        "print(\"Arreglo de entrada: \", arreglo, \"\\n\")\n",
        "print(\"\\nArreglo de salida: \", bucketSort(arreglo, verbose = True), \"\\n\")\n",
        "\n"
      ],
      "metadata": {
        "colab": {
          "base_uri": "https://localhost:8080/"
        },
        "id": "31OW0JxnpWqS",
        "outputId": "130c360e-bb64-4fc4-bd87-be3d1007ebef"
      },
      "execution_count": 69,
      "outputs": [
        {
          "output_type": "stream",
          "name": "stdout",
          "text": [
            "Arreglo de entrada:  [0.5, 0.7, 0.3, 0.6, 0.15, 0.2, 0.8, 0.13, 0.5] \n",
            "\n",
            "Buckets creados: [[], [0.15, 0.13], [0.2], [0.3], [], [0.5, 0.5], [0.6], [0.7], [0.8]] \n",
            "\n",
            "---- Insertion Sort-----\n",
            "Bucket 1 ordenado [] \n",
            "\n",
            "Bucket 2 ordenado [0.13, 0.15] \n",
            "\n",
            "Bucket 3 ordenado [0.2] \n",
            "\n",
            "Bucket 4 ordenado [0.3] \n",
            "\n",
            "Bucket 5 ordenado [] \n",
            "\n",
            "Bucket 6 ordenado [0.5, 0.5] \n",
            "\n",
            "Bucket 7 ordenado [0.6] \n",
            "\n",
            "Bucket 8 ordenado [0.7] \n",
            "\n",
            "Bucket 9 ordenado [0.8] \n",
            "\n",
            "-------------------------\n",
            "Concatenación de buckets: []\n",
            "Concatenación de buckets: [0.13, 0.15]\n",
            "Concatenación de buckets: [0.13, 0.15, 0.2]\n",
            "Concatenación de buckets: [0.13, 0.15, 0.2, 0.3]\n",
            "Concatenación de buckets: [0.13, 0.15, 0.2, 0.3]\n",
            "Concatenación de buckets: [0.13, 0.15, 0.2, 0.3, 0.5, 0.5]\n",
            "Concatenación de buckets: [0.13, 0.15, 0.2, 0.3, 0.5, 0.5, 0.6]\n",
            "Concatenación de buckets: [0.13, 0.15, 0.2, 0.3, 0.5, 0.5, 0.6, 0.7]\n",
            "Concatenación de buckets: [0.13, 0.15, 0.2, 0.3, 0.5, 0.5, 0.6, 0.7, 0.8]\n",
            "\n",
            "Arreglo de salida:  [0.13, 0.15, 0.2, 0.3, 0.5, 0.5, 0.6, 0.7, 0.8] \n",
            "\n"
          ]
        }
      ]
    },
    {
      "cell_type": "markdown",
      "source": [
        "## **Tiempo de Ejecución**\n",
        "\n",
        "**Mejor caso:** Se verá cuando por cubos, los elementos esten ordenados. En este algoritmo, el tiempo de ejecución en el mejor y caso promedio es el mismo.\n",
        "\n",
        "\n",
        "> T(n) = O(n + k), donde n: corresponde a el número de elementos a ordenar y k: el rango de valores de entrada.\n",
        "\n",
        "**Peor caso:** A diferencia de muchos algoritmos estudiados anteriormente, el mejor y el peor caso de Bucket Sort no son el mismo, en este problema el peor caso será de:\n",
        "\n",
        "\n",
        "> T(n) = O(n^2), este caso se ve cuando los elementos están ordenados en el orden inverso.\n",
        "\n",
        "\n"
      ],
      "metadata": {
        "id": "Gw3EgOXceSLM"
      }
    },
    {
      "cell_type": "markdown",
      "source": [
        "## **CORRECTITUD**\n",
        "**TEOREMA DE LA CORRECTITUD**: Cada bucket creado contiene números menores a el siguiente bucket.\n",
        "\n",
        "***Propiedad Invariante***:\n",
        "\n",
        "\n",
        "\n",
        "> **Inicialización:** El primer bucket contendrá los elementos menores calculados en el rango.\n",
        "\n",
        "\n",
        "\n",
        ">**Mantención:** Cada bucket siguiente a el primero siempre contendran elementos mayores, dado que están distribuidos por rangos, donde el primer intervalo es siempre menor a los siguientes.\n",
        "\n",
        "\n",
        "\n",
        "\n",
        "\n"
      ],
      "metadata": {
        "id": "UM3b2agYtJou"
      }
    },
    {
      "cell_type": "markdown",
      "source": [
        "## **EXPERIMENTOS**\n",
        "\n",
        "**GRÁFICO COMPARACIÓN  RADIX SORT v/s BUCKET SORT**\n"
      ],
      "metadata": {
        "id": "TxpshPxgvhsB"
      }
    },
    {
      "cell_type": "code",
      "source": [
        "import matplotlib.pyplot as plt\n",
        "import datetime\n",
        "import random\n",
        "from timeit import repeat\n",
        "\n",
        "#radix y counting sort\n",
        "\n",
        "\n",
        "\n",
        "# Using counting sort to sort the elements in the basis of significant places\n",
        "def countingSort(array, place):\n",
        "    size = len(array)\n",
        "    output = [0] * size\n",
        "    count = [0] * 10\n",
        "\n",
        "    # Calculate count of elements\n",
        "    for i in range(0, size):\n",
        "        index = array[i] // place\n",
        "        count[index % 10] += 1\n",
        "\n",
        "    # Calculate cumulative count\n",
        "    for i in range(1, 10):\n",
        "        count[i] += count[i - 1]\n",
        "\n",
        "    # Place the elements in sorted order\n",
        "    i = size - 1\n",
        "    while i >= 0:\n",
        "        index = array[i] // place\n",
        "        output[count[index % 10] - 1] = array[i]\n",
        "        count[index % 10] -= 1\n",
        "        i -= 1\n",
        "\n",
        "    for i in range(0, size):\n",
        "        array[i] = output[i]\n",
        "\n",
        "\n",
        "# Main function to implement radix sort\n",
        "def radixSort(array):\n",
        "    # Get maximum element\n",
        "    max_element = max(array)\n",
        "\n",
        "    # Apply counting sort to sort elements based on place value.\n",
        "    place = 1\n",
        "    while max_element // place > 0:\n",
        "        countingSort(array, place)\n",
        "        place *= 10\n",
        "#Codigo experimento\n",
        "x=[]; y=[]\n",
        "y1=[] ; y2=[] ; y3 = []\n",
        "\n",
        "for n in range(1,100):\n",
        "\n",
        "  a = random.sample(range(1, 1000), n)\n",
        "  a2 = [random.uniform(1,1000),n]\n",
        "  cont = [0]\n",
        "  verbose = False\n",
        " \n",
        "  t1 = repeat(setup=\"from __main__ import bucketSort\", stmt=f\"bucketSort({a2},{verbose})\", repeat=1, number=10)\n",
        "  t2 = repeat(setup=\"from __main__ import radixSort\", stmt=f\"radixSort({a})\", repeat=1, number=10)\n",
        "\n",
        "  x.append(n)\n",
        "\n",
        "  y1.append(t1)\n",
        "  y2.append(t2)\n",
        "\n",
        "\n",
        "plt.plot(x,y1)\n",
        "plt.plot(x,y2)\n",
        "plt.legend([\"bucketSort\",\"radixSort\"])\n",
        "\n",
        "plt.xlabel('Tamaño del arreglo')\n",
        "plt.ylabel('Tiempo en ms')\n",
        "plt.show()"
      ],
      "metadata": {
        "colab": {
          "base_uri": "https://localhost:8080/",
          "height": 279
        },
        "id": "STnpNtK1wE1H",
        "outputId": "c4d39fcd-70a5-4a5a-febe-1303386e9b34"
      },
      "execution_count": 79,
      "outputs": [
        {
          "output_type": "display_data",
          "data": {
            "text/plain": [
              "<Figure size 432x288 with 1 Axes>"
            ],
            "image/png": "[encoded data removed]"
          },
          "metadata": {
            "needs_background": "light"
          }
        }
      ]
    },
    {
      "cell_type": "markdown",
      "source": [
        "**Resultado:**"
      ],
      "metadata": {
        "id": "H6lDMxxfyAsm"
      }
    }
  ]
}