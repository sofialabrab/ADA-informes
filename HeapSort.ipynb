{
  "nbformat": 4,
  "nbformat_minor": 0,
  "metadata": {
    "colab": {
      "provenance": [],
      "authorship_tag": "ABX9TyNnkpk4fu223vK5ueSMWedy",
      "include_colab_link": true
    },
    "kernelspec": {
      "name": "python3",
      "display_name": "Python 3"
    },
    "language_info": {
      "name": "python"
    }
  },
  "cells": [
    {
      "cell_type": "markdown",
      "metadata": {
        "id": "view-in-github",
        "colab_type": "text"
      },
      "source": [
        "<a href=\"https://colab.research.google.com/github/sofialabrab/ADA-informes/blob/main/HeapSort.ipynb\" target=\"_parent\"><img src=\"https://colab.research.google.com/assets/colab-badge.svg\" alt=\"Open In Colab\"/></a>"
      ]
    },
    {
      "cell_type": "markdown",
      "source": [
        "# **HEAP SORT**\n",
        "\n",
        "\n",
        "> Es un algoritmo que busca ordenar una secuencia de números que están almacenados en un arreglo, utiliza el método muy similar a el algoritmo \"selección\", donde se busca el elemento máximo y este se coloca alfinal y asi sigue sucesivamente.\n",
        "\n",
        "\n",
        "> Este algoritmo hace representación a un montículo, y de esta misma forma, ordena el arreglo, es decir, que el arreglo en cada iteración tiene que cumplir la **propiedad del montículo**: *cada nodo padre tiene que ser mayor a sus hijos*.\n",
        "\n",
        "\n"
      ],
      "metadata": {
        "id": "pTeeuV3dxdy4"
      }
    },
    {
      "cell_type": "markdown",
      "source": [
        "![image.png](data:image/png;base64,iVBORw0KGgoAAAANSUhEUgAAAUcAAACaCAIAAAC1/B15AAAgAElEQVR4nO2deVwU9fvAn5nZG5b7vgRBkUNFUcEjUTMU09IskzRN0yztsKy0w6w0y75a+jXNyuPrkZhoP8sDPNI8ARFBETnkkuWSXVFY2J3d2Zn5/THrcsixF9c675evV+0w8zyfzzzzzOeYz+d5EJqmgYWFxYJAu7oALCwsZob1ahYWS4P1ahYWS4P1ahYWS4P1ahYWS4P1ahYWS4P1ahYWS4P1ahYWS4P1ahYWS4P1ahYWS4P1ahYWS4P1ahYWS4P1ahYWS4P1ahYWS4P1ahYWS4Oj53lHjx27V1lpiiaJROLt7c1KMF0CACxYsMBECW2zd+9elUplioTucKMsQwIYYW5aP3777Tc9z2QldH8JnaCCldCFEtgeOAuLpcF69RNNcsbd5Iy7XV0KFjPDevWTzvB34lnHtjD0nS1rjWrJ9aQyj2cj3XQ//zx5XeTV95WJow0VVZl66hYnfPwgR4OuIgpSd5+7IfLq+9LE0VwAAEi58FdmntQtZMTk4cF6CJDv3XsEAFQqlXvoZKYixtWiMvXUsRslfD4fALg818mTR1tbCQyqS2NSLvwl5fbRrwrG4+DoGB3iMuOL42e2zOnrbd3mubK9exMAQKVS+YZPY8xkxI2qlly/Luuls7KhEpib/Li5Q4c8ExnWS88y6Ei58BdtE2bEhTq9OnNPfzmaa4SURtLMaG6T2uqjm1Y6+oTP3fEP81OddS5o0FJ/f7/8Ix+/9Okug0T9vGyu+7AJO8/nGXSVKiPh6VXx/v5+539+fvr3fwJAVtzXv10q9/f3WzMi5ERWefsi6gvmzNnl5eXh6ubmKFABQMWleMenPjeiFs69g1zd3Ozs7QV0eezyjQZVpBlVhacjo6au23+EaPO0CW/uQZ5ab8q/wFe2BbhZf/XG04GvbMuT1LWlrL5kzptHmRvl48QHgIpL8YMnrWZu/isbk/Sp18/L5jr6hK/5M5X5aagE9Y39Mzad8ff3O/pt1Dv7LgPAhU1vxmWr+/d1fmWQr17mfgRN4GsXTo+MmvrnbVz/qxrj3jucMTdXI4ldt984IQwVl+Ijo6ZuOXXBFCGNMaWtlte7PYWnn/DcUs383rJ57bKDu8aO9X+qr4fnwEV1n8Xq3VjJ7IfNKjkxdHmuYSXgh8Vc2BcDAMOFvwjfTYGPXwiJ/WI7AAB88tnU7OsVk0I82pcydOjYsU/rfh3Y9+u6nduYWnDDPiLWztPzHYw5ek+Z7A0AFzYdi1260pSGevu32zYfXP/HhXa+LTmIsGP/mc3nm9JIAACoVMTO5VMCX9mWu//NtlrsEL/GN2r3ji2LN+0YO9Z/lM8p3oD/7F86vD09cvths8ovTo49aaQE3sBXLux7BQAC8M3TdpyB2SNHv7eNaeI/neOhr7kBAADh1g2Yv/p8qPMxPS94DB8vLx8vLwD46/MdH334nQk2kK/femTzwfXHbxsvohmmtNXimS9H07ic+UETuEpFhLoKAYDjae3Prynm6f9YO818Obr2YbXRRTl77dSUFyOYYpzYv2v15299eM1pwsxwfa6NlB0OHjhkxIsvnMkraVaLELkkt+3msgXkyzed+XJ6f0Mv0yFJ+CndefLzQ/T6yFklq1GpCBP/AYCLk+3O5VPGL9nTeouNDi9LHBk5kLlRAPKS++rBXlwA4Pq7gSLnVvs3Sjzz5WiN/N6jn40k+AhBkaP/nc4syBgydTwA0Mpaxtzr7k1691W9zP0IJ7N0d0lp8co/pF88b0wfnkGSsPtO2PSY3nzTC6PD1HG1DoRr8ONvLqol1z/+MPWAnGmkQejuE+3lkHR69d20ytBHA/5WsQpLKswHgKrC067+L6rpqw/Ky0wpTFLcWtcpb7c3Rm1OTtrhuL9vCsXeb781e+PepFW7f4fSgwBgaiusN3w+t/pBXZCHtYdDK4+EVdiVshtMUYMCX1PTZ5v+WRBoSlnVGgB92wCiIHXFppy0OyMBADg8xtwn9i87lVz5bLvmNjdXz/wS+NLrhvbL0i7s+/ufO0Kx9/L3Zv/n95uH971dkvaTGUtlNq8GEKv52iEKKSXLHXr7qnHgGt8L1RvJjBExG5Nuh3IBABCugOklbt4qCVjxX/XptXo+bC69B/lBai4B9h6ezJFqiTTLzTPUwIf1yP8OvfHDecOuAXBx8Rszxg4A5OlHf4jLtO6zSnr3wq0U1f7EUW1PI1U/aHMwrB/enk43bhXvO3H94vZX231A+4UPC+F/nUuAjyNPTXAAoFoiBScX45xaK6Ga0ldCfcboZ2J/OJzCnKwz9754ScCK/9Kn1xpVCqORb990ZN6jeSX98fMLHjPGXWgfkHzoq82/Z9j7r5LevZCcojoWPdosPQiTvFpSWV5ddv9+saSktNTHy2t61KS5q37r/9PCzENrhk55Tv8XGE3gknuy+1Xl5fdrGFF6F0E+O8zn2a/O9nVWMhee2L+L8osY4G3z+2/7pjzzcbsPSk7a4etS51GhvcsubnGY/mUoF5Docdpa/LV1ymLDVupVXIr/Xjpyjd6jOx0O3oPHegMAUHLZXclwAEg7V3+6suapsIA2rhoW6pFfcLfQUGWNqK5VOtgIqx/0OnU5q22XTruwL1fhMyq0960jXwUsmhfKhZLwgC90N+qj+fqoKyktlT+s5kurGGNNjg42UIJ8gt+gGd81MbdD8DgPJyx+8+ZFc3fqXW/tI/dAeq+UrjbwkWug4lLiDa+Z20wxt/+yu5IlAJB2rj5T7DDQz86IYjyOSbNlW75fjVP890Lgh/XrFy9bE/zix6uqvtnw3fduXpG7PovVXxDClW76eAXp4hwGieu3Zqz9bKmeb4TK1CSnMe/dvfnXDzeBErmt/Wxp5FMDv/9x8xmK7xaw4PCHL7QroW/fqHP7l/2QaE+J3JIOrQCAxrXYv2SS/rUAgEuFhevWrzSlK4qKnXzEAACCkRNm00pvt7aemPfnjzVBFQBAnqRu/JI9QZV1hzfMaPueh4VEnVyx9Gqit5tXZPymBQAw6e0fSfJ75kYd/rj9Ww0g2/TxctLFOUhQvX5r+drPlhoqoTI1KeiVx839HU7xe43etnn2SH2rDYBwpT+s3wDQy6Xuj6/3BP786VtGWO1SYeFXHy4yl7lvtmduA+i4xaishG4rQUdSenHYzF/ldUqzq2AldKEEdm3ZE42Do6M+Y2mWnoUZZ8tYeh6GztWz9AjYtpqFxdJAaP2y0p87909BQZEpmvh8vokb8VkJDK5ublMmTzZFQruw5u4+Evz9myzp0wd9vZqFhaWnwPbAWVgsDfN4NU3gJaWldfVGbn9hoOQyUyRQcpmJZTBdAgDQylpTJEgqy0tKS0tKS7ts/a0e0Mpa02+U6U+LBZibsXVJaakpZXgcM3g1TeDfLp6Vdrdszcr329nN1zo3Dv/cy8Y5Oa/e2FLIv//lSMGd3BmvfmzcXaYJfOcfWglGexRN4Bvfnz5p0RfGSaAJ/O2Rk9PulpXLSGOL0AnIv313Xtrdsk8XvWv0A31000qx9TCjnxYA2fe/HKkoTDPe3MragyeuVxSmzf50mwkvUPm6xc/N/nSbcRdTctk7Ly5kzG3el7gZvJoq//cHeGHayIglz4Rsv2jk1gj7iCkrNiy3Row2s3jFhwvGjBo5yrGsvFpjxPUIV7BgwYKxY4cFCe4XGfu03fx7V+2Id8YGmBRTMryXp4OjY6ft6zAUIuf0KbeF00ZGLHrW6+u/jAyiEvbyW8vfN2Ap2GM4rfhwQcTocUGC+0aaW2gz8+XoiNEjHUtvqox9N904vM/n5a8H2mPGXc4Q3ssztI+rec1tBq8mq6Uj+ggBQO0CpVVG7qb08fLywbh1tEmfT6WSi1dFT/kZ+w025cJfq1atJ6OmGieBlBbvSKv5IjYajN1rhXAFm8//DQDrlr5rQjvWsRCllf0CxQAg6OtgtBBvN49eiMLEkuSknSrxHW+auTf7PD/VuEU4mrLshCLuzJHGb8ZAxU6bD/1mSo+jVcmmi+C4e1+5owQAPK86bICLKaJMaKuBlBa/9uHR+E1LjX7tRYx+/quvvuqVuue0IVE1dEiL8wb0dtqxe19qwu5jSUZugWf24g/xJfNra42T0NHw+/TOyZUDAJ5X7eTWZauYNGXZK/ZI9usd0+JxGHPfO/TdmbwSIy6XlUuc7ODg9u3/Jp83OvCbj5dXxOjnn3EoSi6rMk5Ci5jBKqjbmA9g+v5E76sp1YuXuRonJOXCXwn//OND9PJ0m2TUGnfZSBe/l3ecTTx2LHDgGKOWTMlWrdocEehb5DJyoa8xrZDb0OgFQ4GSy27+e9W4/XTyiovrf8mI6GudzQ961agydAKox5jwgtf37pWmZvPWPudphASawK8mnTx6KavG/cCs2Uaae5RXsCnmrpZc37T9r4hA33K/GZGexjRFjLlJaXF2jZVxkc+qCk/v/PPuAA8sq/ekhUaVoTXM9r26rh43ZTkxTeD1agAAvpXAuLdvXT1uxYN6tfESmDIYfblZYMrQ/Rdmm2huXYfTFHObKKE73OoOKgO7CoWFxdJgV6GwsFgarFezsFgarFezsFgarFezsFgarFezsFgarFezsFgarFezsFgarFezsFgarFezsFgaPcir5UePHZNUNt93Qd6XHPjjVOPtqZWppx5fbX/j8M/IM582PkIra48eO9Ztt0Y9CaRc+KvFfRHN7ELJZc1MzBwc4TlQdxollx09dky3qYaUFh89dkzPTReVqaceXSi3kEfCxBDknUgJABy/VdbsaMahrQD91TRdcfUk89cfFo1//t0fHz9NPO7zxkeu7F8BAOHTv+zQQrO0wbevRT1uKZqu9QI4fquMKL39e8J5mqYrrp4EgEx1k5PIWmkwQG6JnPnJnKM77chnUwFg5vv79CnGkc+mTvzyZ5qmmWfsWFKFKZXqDvSkeOBMKqTK1FNJalv+3du1mOfMl6NDR8fEHfBHyrKnDpvAm/URteS12Nc/Gs4NBJCf2H+oXEFai31mvhz9uLQj/zv07X9+++SjhbeIVaFc+Yn9h4TuPveqSD93ZYHCXlGaN2HypMyzJxkJL78wesfufaMnzOzjxkmIjwt46iU2krbp8PlcrpUtJZcduHzbrrqgXEGOnjCzr7f4l993htpSm1e/+8Ev9+7sXjNv3OC4AydDuVCZeurYjRIAGD1hZsDjGal6xSwVJ5y4WBA6zmXrr0fmvzBPAUATeEJ8nO4xSD77v/uiic9GcrZvPzJ6wsw2jJh2YV96Hu4WMmLy8OBqyfU/T15n9Pb1tj6xf1fo6GdOJSa6h07u/Cyc+tCDeuBakhMOvzAqslCjWD1zwq5juVW5qbEz9yI8YcBAoO3tnIRWyQmH9x5Jq5bcSbx1D+epPpo54XhyZTMhVYWnv78euOzDBUtDIfVkLgB8NGv+uGV7XV2wK/t/mhXzirXYpzwvlZEQO3PCibSHcHHVG79eQtS3n521sivqbbE8fFgyKybqz2Jcduk/gdNXA8DXs+bnSYW9nazt+ln3cbHjVdyOnfk5AGyM+z9XNzfZ5X0jvv4L4fCaC5Jaz/h0xU8bTxI5p095zX1mcgAAPKi8zRiReVoGO/ImDx+w4oOV8dd4jV068cu3EARBEB8A4PO5WXFfD1l6xkOETRkRciKr/NShU2U8FyL7YmC/+QCwc9b8XnM+UtXmTx7u3j276z3PqwHgxU92vj1nyeTogJSHMgAAkQpz9h0z0CMkIqrxTtc7cZ9s3bCrxUBv1078AbKMNatW5dTB/E27mYOnd2xgAi8vXvXfmS9H9/HzZiQwf331/e3nt/104NdT4dMXsg21ufH8+dO35i5YA6mpuvFz9LgxTr1CXpo42tHBHsAaAFwV+XM+Wrs3ucT3QX4LMhT84ZNflBxd8vpXOxZ9sLC/QAMADt7O9Wd3//f7Hcy4mTfwlaWh0nU/bnvvnfGNL33UA5cy/cGkxF8g/cyH67YEDQi/dU9phdZvn/v8Tycu6s4/vnnDkg++WxoKAuSh+W+GyfRIrybqa5r8VvCZ/5aX39M9E6WXdyfaz008fqSl8AXy/dt3vLftxzFjRn+3fiuc+fYWIW785+paZTMJVbIaXsjYWZ7HYz/4ZMbi2Wav0ROPOreleHz5OWVFkrr71Q8AgH6Q/MEvZ+L3H3170lNpNSoAUDY7W6QCcfjSUNh74MRzg/zu3CkDgJsH1u8s8D+T+He0MwAAVfnvxlv935o7Ztvx5JaKoWTaAPv+YeJx865eubRr88oFfWp++mbN10dzvntzlu68zYf+rpZc33gLcNo8uWnNSw/yauHgiIkAgNm6OLnyAcA3dESEnRPCtw2fHgAAg15fpzm89r970zBblwAf+wEzV74aKH11wdKpy+bx+VxXH/9xoY6MIPL+Q77/vAXzXxo79umB02e/NWX4naspE2NfYeIrBQRFDgv1AACvkXN1ElycbBGu4JPlXwEMndrHyHgvLM0ICIocEeBrK3CImTYzkAsI3zZmWigAjIx9xceJr+zz1FsDHn68frvaPThmWihiH/n3xs83fPzcXVr04tA+ADB51sLG0sJjQgBgxqcrYqa980yIh19I2LBQjwEzV34zlf/qgqWDZr/p4mSbeGjfor0/b1r5fc3Z/brOM+ocGujGPBvCmGHhADB13rYVvW9PeDri28NFYu/B3/+89eCm+f8UyRkVAOBx8+qs+e+8t+2g0VHTOhQ2aoIBXNj05gcX3a8dWtXVBWHpSl5EkGH/5H88zr+rC9IqPWkOvMvJKlF+9eGiri4FSxfz9AdzerkKu7oUbcG21SwslkYPGlezsLDoBevVLCyWBuvVLCyWhuXPlpHSYqLgKvVAQpNqAEAwHuYezPUfioqdurpoLB2CpixbI8kkZQXMT0Rgy3EP4vj0f3IsbsmzZeR9ierqQYTP4fkHojZ2CF8AJEnVy8mH1ZrSYuDaC4ZNR4Q2XV1MFrOhKctWpR/BHBy4nr2aWVydn4s5+fPDn0O43T2DgulYrFcTBanq7DPCIcNRGzsAALJR7lgMAwCipFCdnyuIiMWcfbuojCzmRJWRoCnN0FqcBqCaWpwGQlKozs8VDJ+NOZqUtLT7Y5leTRSkaoouCsJHMG/rlk/CMKr2ofJa0pNgZotHnXWOvHdTOHRUWyc9srjo6SWW3UezwNkySi5TZ58RhI9AONxWXRoASBK1sRMOGY4n7evE0rGYH1JaTBQlt+PSoLW4oP8g5WULt7gFerU66ywvIBDhPRo+cTkg0G7/ABTR/hTwAUUYM3M9vdRZ57qqtCymo7pxQtB/EDOw0hpXwAfuo5lg3REMA5LEnN1QEaYpy+7CAnc0lubVtLKWrivlevbSDau2bI2bM2e51rERdMvWuGkvvDPthXdycooYM3N9+xBFLe7gYekBkPclCEpgTm5AkvI6RcykRTGTFo18ataWrXGMY6/+asu0F96ZM2e5vEbOWJzXO1CdbcnvcUv7sqUpz0VEVozxQMCPmbRIIODl5d8FAOBy4g8mHku4eHDPd4mnr7y/4oeEP/8LAAhfgAr4lFz25Hz5sCTIynzM0RkQABQpK69Kv5Fz58YRpRIXCgWAYVu2xuG4as+vX++JO77kg+/27FoLJKBWYgRwWllrqaNrS2urKbkMc3DW/iA0u3/5cvn7c+/frwEAwLCMm7mrPlkodrKPGjU48cwVeZ2CORERWVG10i4qMotJUHIpZuegm0C5J60uK68CALGTPQCcOZfyauyzYif7l6Y+vffACe01GIaIrChFTSsiezyW5tU0LkeFImDm9UnSxcOl4W+46t9LaVwOB0jSxdkhuJ8fAACKAA2oUETj3TFUDUu7UHUyhC8AAKBoTw+XT5fN++d8qqt/9JbN+wBX5eXfdbC3AULj4uzw2JWtz6T2cCytB44IxJRSgSGPflNNvtvpTCuvU2gbcABAgFIqOC7dcfs7S7ug1k60CgcrMQCIrUXfrHkPMOylqU+7+kfPiX3WzlYMAIAi8hrFY1dinV7YTsLS2mpU7EQr6xt+cxu9tgT84EC/wuIywDClEtcepGgAoHEcEbBe3SNh3uPaCXBU+zoXCgUAILYWuTg7MBYvK69y1TXXJEnjOMLr1nukTcHS2mrMxU9VdFE7yuJy4uOOZ9zMvSetjo87/uKUqFdjnw0a8mIcSf7x5+mVKxaKnewBVwFJUgoFuxClh8LxDlXf+JPr0xtQJC3tdvK1W472Npt/+eOnDctBwF/+/tzXl3z95SeLNm7dv3n9x8wltIagVRoLnhy1wLVlyvO7eL7umLMboEjylXTmoKT03sRnRojtbXKy8jOz8r29XCMjw4AkAcPUd27TtD0/LKZri81iNIqEDYJB4aiNnbxGnnj6CgD09vUMH9YfCA1wOWlXMwuLyxqOYBiekYK5Dub6D+3qgncUFujV5H2JOj1eGBEFAMDlNAytmQYcRQBBAUWA0ACK0WpccfmcaML7T8Kif0tFU5ZN5J4SDh2l7Ycz6JYV6g6SJLNoFE9PE8Us6+xSdiKWNq4GAMzRG3MfhGdeAwAgNECS2n8MFA0kybyzGZfmD5rKunSPhuMZhIjc1fm3gYbm5oZGRzCMVuHKa0n8YTO6rrCdgQV6NQDwQsYiIh9l6iVaQzR5f+vAMKr2oeLyOV7QeI5nUKcXkMXMCCJnkLUa/EZKyxZHMcAwUlrJvMQtfg7FAnvgOoiCVCLvAsfNhePujfAFzFdNWoVTtQ+JsruUguQPnMRuw7Qk1FnniKJkrncvjqsHaiVmlhjSGoKqfaguyKUpLn/QFIt3abBsrwYAmsA1JZma0ltA1lIKBQCgIhEicud492ebaIuEVtYShWmkrPhJtriFe7UOSi7DL+0GAMGouRb8SYNFh6YsW519DgilcPySJ23exDLH1c2glbXK87+JYpYJxy9Rnv+tq4vD0uGQ9yXq7HOi8YsFo+Yqz+/s6uJ0Npbv1TSBK/7ZYjX5EwBAuAJBRKzy/K6uLhRLB8LEqxONXwwAqNiJ6zdUlZHQ1YXqVCzcq2llreLkj4xLM2DOvpiTLxsmwVLRunSjz9Fc/6E0LicKUruwVJ2MJXs1razVtdKN4YWMpeRSJhoGJZd1RdFYzAlNaFf1P+7SDILIGUTeBcbWT4LFLdCrled3Kc5spZW1yn9/e9ylGQSRM9TZ54iC1AdfBjwJZrZsFCd/xJMPUnJZiy7NIIpZhl/azVhc9xawVHre7g6awMmqIuphJWMbVOzE8QhsHNRCnZukyT1IFGbYvvFrG3JQa6farc8AgKYkkxcyljlIyWVkVRHj5whXgNq5YS5+T9oManeDVtaS1WXUw0pKLkXFzojAupnFiax/8ap1RM5s8Ws/tSWIK2QsTlYV6b5yNbM45uKH2rn1dItjX375ZVeXQV9oZa0q7S/NnX9oRQVqhWJiHoCSrq8gci9pJDmo2AkV2VJymfLEGoRrS1UmAWbD7d3yCn5VRkJ93GuI0Bvh2qJOvtzeQzVl2fjVeLIsDcGUqBDBxDwg5WRlNpF9maqvwRy9EaznvQF7OpRcpko/pin4l7E4x94aSDljcbJKgtq6InyRpiwbv7wT4dqSZZdQ294cr5AWReHJBxV/LUWE3qCp5XhFcLxCGizOVaMCYCxOFFwl7qTQahVq795zLd5jvlczaRl4AYEcVw9t7AsagNlOSwMpq1TfuY25D6Lk0vr4NzCXCG7IGK5fpK4RfhxSWqy6dhi//D9U7CGcsJSSZfNDB2sDxOuCLtBAq3GipJCQ3GXzAXQyTJ4GXkAg17NX80WgJElWS/HMdF7QeCLvgvLMasbivKDxbezEYh4hVfJ+bkAUt99oWlHBDx6Iiu0AHrN48R1NZVXPXdrQM7yasYc2LUOLIb4xDEgSz7ymupUmenphsx5aG1ByWe3WWaLo2bzA/q0GD0cxSv5QeS2JdexOQ511jqxIF4SPQHiClkMRYRitwvH0FHV+lujphRyf/np2m0lpsXznIqvnF3F9ereRAYKUVuKZ6cKohT3RsXvAbBkll6nSj4hGjm3VpUG77U7Qfwg/NBwA9I8dSRSktuPSAEA9ygeQEkcraw0tP4uhMFH7tXkaWosuRpIIhyscOooXEIIIrPUfCRMFV0UT57bl0gBAkpiTm6D/IPzS7p44tdYDvBpPOSjoP6iF3DoY9vjuHH7QQCLvgp6+R8llmtIMXkCwLnYKcDkNMpmUAEyMJJJEbex4AYGqG4kmVoelXVTXDguHDNeOswCaGAWamgnF+MED1TdP6Ol7pLSYrivVWhzDtKIexUXSHsEwQBGgSMzZjePmQuQlmbNunUJ392ryvgQBHHN2a+LSKAICfnJyRk52QTPHRvgCjoc7UZimj3AmywfzdpDXKeIPJsYfTKyqlDLWzckpYo48KgrJ9exF15WyX8I6FE1ZNsLnoOJH/TIBP/lKeoOhBfzkK+nxBxNzsgtAwGe6UaittaYkUx/hqhsneH2CgSIBw6oqpYx95bX1WotnF8QfTIw/dBIomkntwvXtoym53uOa6+7u1RrJLY5X86GsvLY+ZtKi4U/Py7iZ2/CiZSBJjquHpqL9fCs0gVMPJBxXD+bpiRw3t0r2IONm7oDImfIaeVV51etLvgaAowkX5rzxhTb1B4Zhjs5kVZGZKsfSAhpJJs8/kJm+ktcppr3wToOhBfzVX23Z+ls8AIyJeSMtKQO4HOZtqym91a5kmsBpvAZzdgMAeY187LOLqmQPjiZcmDjtbSDJnKx8xuL74xNXr9sOPB4AIDwBamvd4yze3efuSVkRNzS4SUONYWXlVas+WejsZNfiJaiVGEEJmsDbHmvReB3C5yAcLgAASWbd/BsA6Lq6tRt2lZVX9QsJuHzxdwDo7es5JOrVPXvWMadhDs5ERZEFhLzKk9RdvlE2b3JgVxekOdQDCRo4kukhl5VXLX9/rthapPvrF99so6qTEObh7cEAABQeSURBVGtrkiQ3/Ry3Z3gYEBrUxg6I2+1LfliJOWjDjIqtRYzFX5JUuPpHV0mrdRYHgI1b969ctQQAAAHMwZl6WAk9ahdnd/dqGq9BrcRNDpFkvyB/4HLW/bi75WswDCgSNGpo16sFAm3uHgDAVYBh0gdyAPD0cAGKzsnKzbiZu/mXPw7u/k73WkH4AlpVYYaKdQPmrzsKAN3NsWlSrZ1DeWRopnEGDJPLHgAAYm0NhMa3l0dD6hW+gMJV7UqmaqUNGSAAAFcBlyMpvRfcz8/ZXgwUnXzlWvHd8tXfb9/zy9dAaACAyQBBVPSwvC7d3atbhiSbBPo2CygCJDl30ZdxO78RO9mDWg0AGIbZiK2PJlx4acZEM6szjbp6U0d61ffvR4e4HDiWAt3PsYGmtP/T1NBMqh0Gbfh+3Wl6gAis6dpGn6YxjFYq5yz6YseWLxChECiay+FgGGZnKz5x6nL4sP5A6i4UtyKym9LdvRoR2FL18ubNdeOxNIZpX6uPoFU4oBhweO1JtqZxvOGBQNDPvvrviIgBM2c/B2o1IGi/AYH9BgS+FPsswuu//pulLm7OQAOtwhG+lTlqZhLL/3Pi6PVKRyuuKUJGBDpOmjji803dq8VGMB6tVmtHRk3pN+BRIbmczKx8Xc+c1hAI1o65AQDhCckH1dofKEKr8LmLVy9eOCPyqSGAqwBFwoeHhQ8Pe2naeMRmyKL5L7i4OjJ5XRCuvVmq1ml0d6/muAdp7pXz+jQaWqMIrVZL793HcfX9B7Vy2YPG4y5gvBqzafcDJip2olUaWkMgHC5wOavXbDty/N9zx3+pklQIhYKy8qrMrPyoUYMLi8uASeVDkoBhZLUUc+7XMXU1jK/eeNrb09QFEioVsea9Kd3KsTH3YM29ct335CpJhbxOoTW0k/2IiAEH9v09Lmrozr1/r/pkIZAkoBhVK0Xt249Ghjn7MjGPGD7/5ld5neKlqU9XSSqc7cXXM/MLi8uiRg0+f+m6q7ODi6sjc5qmXMLrP7iDKttBdHuv9umvPJ/M6xPccAhBcwvL1q7f6exkl5KaWV1ds/LzNxuaaxTTVEg4XqH6CNc+QN69AeD6jZzwsKAPP9sor1Msf39uxKB+e+OOH024AADZ1w4BlwOEhlbhmsoqYb/nzV5N41CpCLPIWfPelLfW/unsSE4eHtz+2R0MxzNInfkX16c38/Hpw882iq1FOkP/3/71H3628cSpy5Njnoocqo3aT5Td5fQarY9wVOxGSisxZzd5jfx2bpHYWsRY/POPXu/bp9emn+MYi99MPgAAQNFU/UMAQO3cOrLG5qcHrBhVnt/FcbVtshiIWS3AwAT3fgRVL8fT0/QMVaXdgB0VDQDab1eNZeqOMEHFu1OWjyVf/jlkSIi3p5Ppjs3nc2/cKj51OevwhhnWVt1ir5LizFZ+n97MJ6jmhtaZ/tFPUlqpulPIRD5pF0ouU57/zWpcDJPevOEPhAZoivmapf1Jkj03y0d3b6sBQDBsuuKfLZidQ8OK0WZh3BuhunWdN2CSnusHEaEN1y9SmXpJGBkFj0+iNj6CYaS0UlNeIRz/glGVMD/XrmVVP+hligQHe2tvT6fu5tIAwB80BU/aJxo5FuELmtulselRjFbheGa6ICJWT8mo2InjFYZnpAjCItq1OFFSSClIQU9zaegROzERLh+z98ZTEzBrMWptAy12LjCMJtR46iXMfZBBb1bMxY+8V0IU3eJ6+gCGtSZcu9Z/9HxU7xXmHQrNp4EgEUpl9L+C4spbOSUYxuluLg0AqMgWtXLCryZyHJ0RgahVi6txbZ6GVnZftgjHrQ9RmElKSzge3oCirQknSgqJoiLh6HkIl9/CCd2bHtADZ2D6TlxPL65vn4YVwkzZESBKCtX5uW1vxGsDJjq8oP8gba+v0WZMWoWrsm9QNXXCMQv13zTS/SkpLe0VeyA6xKW7ubQOUlqMp8Q1t7j2b6S6MJeQ3OUPmmpclG9VRoKmNKOJxQEAAUAR6uED1e0bNMUVRs3voeETeoxXMzDuhwr4mKMzIrSiVTh5X0opFJiTPz/8OVNsQMllqutHKXkl5uCACkWAYkCRRFkpABj9sujO5EnqXv447uL2V7unSzPQBK7OOqcpzWiwuLKefFBNKRQcrzBeyFhTLE7el6hvnWlscapeTlZXIxiPN2BSj04J0MO8moGJSoNf3I25+vGHzTBvjhVSWkyrleqbJzD3YF7gSEtqnxvDrGPpzi7dGEou05RkqlIPY17BgogZZtzzTBM49bCSVitV6Ue4fpHcvsN7aPvcmO6+u6NFEIE1UZQqfu0njs9gsjLfvMIxZ1+OZ5AoZhlVU0nVVbd/Qc/E2krQU1waABCBtabkuvi1n1BrJ6rWnOs3Ea6AsbjV5E80JddpvM6MwruKnufVNIErz+8UjpwNj2IAd1CoZ2HUPPXtc0yAYZYuhCZw5ZktTPBQQeQMIj+5g4zCxCEl70s6Qnhn0sO8mnFpQcQMXcdYEDlDU3qrg8wsjJpH5Cc/UQHiuxval/j4Jbojwqh56uxzHeR7ophlqvSjpLS4I4R3Gj3Mq/ErcfxBU5oNqzrUzMKoeaS0iHXsLkHXL2s21hWNX6xKP9pB4StE4xf39D5aT/Jq5fldvOCxLc6NdaiZBZEzSGkRm8Snk3m8X9YYYdR8POVgB4WR6+l9tO7u1ZqybCbZndalWw/xKYyaz8SOU2edM3u2NEHkDEYyAKgyEixg6NVtIQpSGfMxLt3adDfCFQhHzlZe3gcAqowEs3tg4z4antxRr48OouvXltEETj2soOsf0IqHQGkQfpMNWKr0Y4q/3ycrSgUjZ7UdtRfBOBzfwXW/f4hf2AZqNT9skp4q9ITj1oeUFqvS/lQceRdzG9R4PZNZ5D85tH278Ct7lKd+0JTcFj2zpO0vWAiXjzn71cV9rDy9CrX15fYZoacKPeF4hWhKbqrT/1Yc+4jjOxpz8TOv/I6jK9eBU3KZOussKStARSJEIAAAGsdplabxh2JV8gFE6K3O3MfxCxdGzWtboCrtbyL/PACQ9+4wEY70UaE/iMBaeWY1IvRW3TwjiJyhZxVYdJDSYvXtc7SiGuFzmt+uR0tKVMn7AYDIP08UpLa7kQZPOUjkn0eE3uqbp5hJ8tZUcHwGG/ctWmvx1MNMxgjd2pUWLG7aqhgz0mVerVuyJwiJBgBtBEmSpDWE5l654p8tvKDxmIsfWZUCAIjQm5JXUnJZGy9vmsBpVT0q9iCrUkilRFOSyQQGbluF/ovGaAKvP/Q5ANBKiSZXQko/1ZRla0ozeAGBrclvO3nIkwaefJCuK+X1CcYcBgAAoBgg2ttFlBQqTv7IHzQV4QlppQQAEKE3WXGbbtNPaAJHuEKdxcn7EuJOUrsq9F80RsllypMbAYBWStSZ+2jlWtWNRFJWIOg/qDX53WQZYtesLVOc2YqKMEFYBEBL4WkwDEhSmXpJnZ+F8nj8odMN8g0m0QeR9a82fH8bKlLOI9ZeTKurJ7SyVp17WZ1xnLx3p335qZcQkbtB8i0S5oMzx8Od1ycYaGghcD+K0WocT7uiLszhePgZ6htEQSp+cTd5745o4ty2VSgunzP0VUvJZURBKn71/wBAGDGGFxDMeHJr8jleYV2+V7cLvBpPPojyVe2kywAADFMmn+f0GmHEyw9PPogKNbyA4FYzP+hUXDmLuQ8ytEVVZSQgtIzXt3/78pPPY64DnvAWW3FmK9fLrZ10GQCAYfVnE4zbsNHCJvzWVRjRouLJBzE7TsfJNy+dPQeuKcumFRVNXLpZQG8dJCmMeEqdfcbQ6Uetij7tubRWRRRRlGyQCk1ZNiXL5gW259KM/KGjDJVvYRAFqagIa98fAIAkRSPHqtKPGBpVnyhIRbhqrre+KtTZZwxSQRSkAvVA/yoYKt/sdLZXq7PP8YMHMndHXqeQ1ynktfXaELAYpjuoHaMiqBFJcBqrYNAqevSvydkYZqgKdfY5fujgNgzcRAWGCfoPwq8e1l++JUETOJF3gR80sPnt4nJasAUAwhNwvXsZtDSgQQWll8UNVdFqFRhQhNYQjVUgPAEvILBrVzd0qldTchkCOGpjBygir1PYeIyeOO3tidPe/m7DLhDw5TXymBfenfPGF30GTo0/dFKblsGnNykrMEaFDgxLPH0lctxcRpeNx+gqaXVDHh8DVbQgvzFczpw3vmiigiQxZzdKXql/FSwJ6mElamuN8JrOeGFY8pV0G4/RjN2bXkByfXqTFe2H7NdBVhU1V8Hl7Ik7zlg8ctxcG4/RTRzbQBUtV6Hhz/SkGcuaqKBIjquHpjRD/yqYnU6dAyerijBnN6ABEFSpxIP7+emyJQBJ7ok7PiJiwMpVS3Ju5o6JeWPiMyOY4KGYgwMpLdYzxaymJFOrokEr+dKLE16KfRYA0pIyPl/9s4uHS5NgwzSgIpGeKsiqIszRGVqci+BycrLy0zKyg/v5NfuLQVWwJDRl2ZiDMzQdY8lr5Ft/i/90WcvfKREOF+Fz2v7e0RhSWtxcBaFZsjh2yTuzASA+7njGzVyxvU1jixukosUqaOFykq+k18rrmlkc4QtQkYi8LzHvHmH96fS2mi/Q3aDbOUWfffLDls375LIHgGHl5VWTokcCSXp6uNyTVgNoh9yoUESrlXqqoAkcs3NobgOSBFwFhGbNf3as+mRh82sQwOwd9FRByWWI0KqJfBTR/qPo91f8sGPLF/fv1zQtE6BCkXn3D/YUqJpKzM6hWd9VbC3as2edh4dLy9dgGCIQ6L8jskUVQGgAVwGu+vLbX16NfRaopq9hQ1TQuBwViponb0QRJknAsk9/3LD2/eYWB0AEraTd7hQ61au1N4gGIEkXZ4dr5/e+tzi2uromctxcIMl/L2kTWYptrEZEDHh0DXOhvjamcbnuqiZgWE52QVLKTW242SbXGKYCFTYsJJLXKXJyinJyiuS19cnJGYMHBkYO7a99JekSUCAAaPOMvCzV1c09QYu5vslgWHJqpo+Xe7++vnom92i5OKr6xvGVdBYHkvzjyNlXZsT09vXUWrzhGgAA/Zsis9OpXo2KnSmlQtfQhQ8JdXF1XLlqye2coqryKn8/L+a4vLa+oLBUexKTPEFgbZyKRn9A9sYdX7liYfOBnIEqEK6AUj4aQWFYWXnV3rjje+OO5925+/qSr8MGBCanZgJAYXFZ4/aBqpfrXwVLAuFbaVOpGHANABjwHtSqeBwU2fpb/PxXn2sheRPj5Pqp0MpnZkkwLO/OXcbiaenZq7/fHh7Wj8kDkXfnbrMqdKHFO3Vcjdq5ae7mMVH1tTnfAZiUaC6ujhFD+//599nw0VF5dzL9e3uJrUVA0YABWV3N6+9smAqf3s2Oyx/Urt2wq7b8QvOGGgAAyOpq/iBPg6tAkv2C/L/59gPm/2dOn5CTV5yTVwwAR09cCAny1yUVMagKlgTm7EdW52gj/jXFwcG25eaaJGlFPWqj7+3SqnBya9LjRZGq8qpT/yRv+WFFixanaur0VNGkCiQZPiQ0fHgYAMhlD2ZOn3D6bAqOqwDgxKnL4YMefWYnSaqmDhXZ6lkFs9OpXo25+BHZCbQaR/iCnOyCMTFvODra3s4pSvpnF2DYnNhnI8fN3bEn7J60+tr5vczyLOY1rH+cKq0KFd4kUROXsyfu+KszJ4md7B+PAk3VPkQwnp5rtjEXP/XNE7Qa16XI1fXumNyoctmDL77Z9t7iWLGtmPmToVWwJDAXP1XRxWYdYHmdoo9/NNNrvX4jZ8+vXzfOqURWS4Frr/+Caq2KZoNYHm/T1rglb8xo0eJktRQROeiponkVHllcbC1iLF4lqVi7Ydfny+YycysAQNXLgSvswl0Anb22TJWRgCAPeAHBABQgKNAUICigiPaFimHaI6DNh6i88q+hy8u0KvoEP/6NtIXXNpejvPIvNzBa//VMDVVobTrkkXUBoOfmfzAX2lVf3r0bbhdzf5jVR4/NYymvnOUNfMGg7wXK87t4vu6Ys1tzi+vSGDcGxZRJhqlof2FZU4srr5zlBsV0YZTSzl6FwgsZS0juUvKHWpem6CYpdRqn5sAw8l4FrdIY6g9aFbUPGz5KMzzu0hhGFBfQKo1BBmioAtbKwKyRgUlpJVVT98S6NADwB09R5+fS6kZDX939ecyliZJC4Nob+gmQP3gKnpnewui6JZdW5982VAV/4ER1fm5bEwS6iqAYUVJIg6BrAw93tlcjXIEgIlZ5LYmqfdiyduYG6dJlNApYZYyKNmZEMIyUVqrzcw1V0UR+a44Njaow5rFvaU8SqNiJP2iq4vI5WkM0uV0tubQ6P7fd/bYGqGgGhhGSQkJy11AViNBGK1/d5swfhhESpgrzDZJvdrogagJqZcdk2EE4GGZj1yQPDoYBitKEmijIJoqKjc6Ag1rZoVZO+PUz7aoQjXvTiHzUDVXAHslHHuV2ebwKVj0s+7HZQW2cmQw7mLUYFVoB2oI5VLfSyMoqUfS7CGbMXI++Ku7LRU8vNkJFg3xxq/KJgmxNaZko+t0u32XdZVH+aWWt6kYiXVeKOTpjDs7MJ0FahRNld6maOrPsQe9oFZ1QBUuCyY4CxAPM2Q2zc2h2uzg+g03f2dbRKjqhCmahi3N3MFk4SGkRraoHAIRvxfHujzl4mnH+sGUVLn7m8jdaWaspz+3QKlgSTBYOSi5lbhdq64Y5+5rRHJ2gotkT1RFVMJEemZGHhYWlDbp7jFEWFhZDYb2ahcXSYL2ahcXSYL2ahcXSYL2ahcXSYL2ahcXSYL2ahcXSYL2ahcXSYL2ahcXSYL2ahcXSYL2ahcXSYL2ahcXSYL2ahcXSYL2ahcXSYL2ahcXSYL2ahcXS+H9746hAu1OQ5gAAAABJRU5ErkJggg==)"
      ],
      "metadata": {
        "id": "Ly6xnAV8ztjc"
      }
    },
    {
      "cell_type": "markdown",
      "source": [
        "## **ALGORITMO**\n",
        "\n",
        "Este algoritmo se divide en tres funciones:\n",
        "\n",
        "\n",
        "1.   ***HeapSort***: En esta función, se da inicio a la resolución del problema, la cual comienza llamando a builHeap por primera vez, enviandole dos parámetros, el arreglo a ordenar y el largo de este, al terminar este llamado, se recibe el primer montículo ordenado y se itera el último elemento del arreglo hasta el segundo.En este ciclo, la raíz de este se coloca en la última posición del arreglo, de esta forma se llama a Heapify para que pueda ordenar el nuevo montículo (sin considerar el elemento que fue sacado de la raíz)\n",
        "2.   ***BuildHeap***: Se encarga de iterar desde la (mitad-1) de hasta el primer elemento del montículo, cuando finaliza la iterácion,  el arreglo **siempre** esta cumple la propiedad del montículo.\n",
        "3.   ***Heapify***: Se encarga de ver si existen hijos y de ser así, que sean menores a sus padres, en caso contrario, se intercambian. Esto sucederá de forma recursiva hasta que todos los hijos sean menores a sus padres\n",
        "\n"
      ],
      "metadata": {
        "id": "1qfXdjkw0Yrd"
      }
    },
    {
      "cell_type": "markdown",
      "source": [
        "### **Ejemplo algoritmo:**\n",
        "**Entrada: [13, 2, 4, 8, 1, 16, 7]**\n",
        "\n",
        "**Tamaño del problema: 7 elementos, posiciones de 0 a 6**\n",
        "\n",
        "Visualización arreglo como árbol:\n",
        "\n",
        "\n",
        "![image.png](data:image/png;base64,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)"
      ],
      "metadata": {
        "id": "bmbHwQq4O59B"
      }
    },
    {
      "cell_type": "markdown",
      "source": [
        "**Explicación ejemplo:**"
      ],
      "metadata": {
        "id": "ubIaaeoCY8Hr"
      }
    },
    {
      "cell_type": "markdown",
      "source": [
        "Al comenzar a resolver el algoritmo, HeapSort lo primero que hace es llamar a **buildHeap**, donde:\n",
        "\n",
        "\n",
        "> *mitad :* (largo// 2) - 1 -> (7 // 2) - 1 = **2**, posición del arreglo que se almacena en mitad.\n",
        "\n",
        "Comienza el ciclo, desde la posición calculada anteriormente.\n",
        "\n",
        "\n",
        "**Primera iteración heapify**, recibe el arreglo, su largo, y el número de posición del elemento que evaluaremos, la cual es la posición del nodo padre.\n",
        "\n",
        "***Valores iniciales:***\n",
        "\n",
        "\n",
        "> nodoPadre = i -> **2** \n",
        "\n",
        "\n",
        "> izq = (2 * i) + 1  -> (2 * 2) + 1 = **5** (Posición hijo izquierdo)\n",
        "\n",
        "\n",
        "> der = (2 * i) + 2  -> (2 * 2) + 2 = **6** (Posición hijo izquierdo)\n",
        "\n",
        "***Comparaciones:***\n",
        "\n",
        "\n",
        "\n",
        "1.   if(izq < largo),  izq contiene la posición del hijo izquierdo, por lo que si este es menor a largo, es porque existe realmente este hijo, por lo mismo este está contenido dentro del arreglo.\n",
        "2.   Si ya sabemos que existe el hijo izquierdo, vemos si este es menor a su padre, de no ser así, la posición del nodo del padre toma el valor de la posición del hijo izquierdo.\n",
        "\n",
        "En este caso, el hijo izquierdo es mayor al padre:\n",
        "\n",
        "---Valores actuales (SIN intercambios aún)---\n",
        "\n",
        "valor nodo padre: **4**\n",
        "\n",
        "valor nodo hijo izquierdo : **16**\n",
        "\n",
        "-- Asignación posición -- \n",
        "\n",
        "nodoPadre = **5**\n",
        "\n",
        "\n",
        "***Intercambios:***\n",
        "\n",
        "\n",
        "3. (nodPapa != i), si el valor de la posición del nodo padre es distinta a la iteración con la que entró, es porque se modificó anteriormente, por lo que se hace el intercambio de valores. \n",
        "\n",
        "\n",
        "Como sabemos que en el paso anterior, se asignó una nueva posición a nodo padre, se intercambian los valores.\n",
        "\n",
        "-- Intercambio de valores --\n",
        "\n",
        "valor nodo padre = **16**\n",
        "\n",
        "valor nodo hijo izquierdo = **4**. \n",
        "\n",
        "Y estos mismos pasos se realizan con el hijo derecho. Esta función se llama recursivamente hasta que todos los padres sean mayores a sus hijos.\n",
        "\n",
        "\n",
        "**--- Termina primera llamada a Heapify ---**\n",
        "\n",
        "Se vuelve a llamar esta función, para que se reordene de la misma forma ya vista hasta que se cumpla la propiedad del montículo y pasar a la siguiente iteración.\n",
        "\n",
        "Estos pasos se harán sucesivamente, hasta que termine las iteraciones de la función HeapSort, la cual va poniendo la raíz del montículo obtenido al final del arreglo, y en la siguiente iteración no la considera, dado que itera con largo - 1.\n",
        "\n",
        "\n",
        "**Salida esperada: [1, 2, 4, 7, 8, 13, 16]**"
      ],
      "metadata": {
        "id": "U5fjb6dKPJ50"
      }
    },
    {
      "cell_type": "code",
      "source": [
        "def buildHeap(arreglo, cont,largo):\n",
        "  mitad = (largo // 2) - 1\n",
        "  for i in range(mitad, -1, -1):\n",
        "    heapify(arreglo, cont, largo, i)\n",
        "\n",
        "def heapify(arreglo,cont,  largo, i):\n",
        "\n",
        "  #posicion nodo padre\n",
        "  nodPapa = i\n",
        "  #posicion hijos\n",
        "  izq = (2 * i) + 1\n",
        "  der = (2 * i) + 2\n",
        "\n",
        "#Condicion para ver si existe hijo izquierdo\n",
        "  if (izq < largo):\n",
        "    # si es mayor al papa, el nodo padre toma la posicion del hijo\n",
        "    if(arreglo[izq] > arreglo[nodPapa]):\n",
        "     nodPapa = izq\n",
        "     cont[0]+=1\n",
        "\n",
        "\n",
        "#Condicion para ver si existe hijo derecho\n",
        "  if (der < largo):\n",
        "    # si es mayor al papa, el nodo padre toma la posicion del hijo\n",
        "    if (arreglo[der] > arreglo[nodPapa]):\n",
        "      nodPapa = der\n",
        "      cont[0]+=1\n",
        "\n",
        "#Actualización nodo padre\n",
        "  if (nodPapa != i):\n",
        "\n",
        "    #arreglo[i] se le asigna el valor de arreglo[nodPapa] y a arreglo [nodPapa] se le asigna arreglo[i]\n",
        "    arreglo[i], arreglo[nodPapa] = arreglo[nodPapa], arreglo[i]\n",
        "\n",
        "    #Se llama nuevamente para verificar que los nuevos nodos hijos sean menores al nodo padre\n",
        "    heapify(arreglo, cont, largo, nodPapa)\n",
        "\n",
        "def heapSort(arreglo,cont, verbose):\n",
        "  buildHeap(arreglo, cont, len(arreglo))\n",
        "\n",
        "  if(verbose == True):\n",
        "    for i in range(len(arreglo) - 1, 0, -1):\n",
        "      print(\"Montículo creado: \", arreglo, \"\\n\")\n",
        "      #Intercambia el nodo raíz con el último elemento del montículo\n",
        "      arreglo[0], arreglo[i] = arreglo[i], arreglo[0]\n",
        "      heapify(arreglo, cont,  i, 0)\n",
        "  else:\n",
        "    for i in range(len(arreglo) - 1, 0, -1):\n",
        "      arreglo[0], arreglo[i] = arreglo[i], arreglo[0]\n",
        "      heapify(arreglo, cont, i, 0)  \n",
        "\n",
        "arreglo = [13, 2 , 4, 8, 1, 16,7]\n",
        "cont = [0]\n",
        "print(\"Arreglo inicial: \", arreglo)\n",
        "heapSort(arreglo, cont, verbose = False)\n",
        "print(\"Arreglo Final: \", arreglo)"
      ],
      "metadata": {
        "colab": {
          "base_uri": "https://localhost:8080/"
        },
        "id": "IJt2lYUl2p8Z",
        "outputId": "fb8a0d8f-1381-4aec-affc-bad5edcf74e4"
      },
      "execution_count": 10,
      "outputs": [
        {
          "output_type": "stream",
          "name": "stdout",
          "text": [
            "Arreglo inicial:  [13, 2, 4, 8, 1, 16, 7]\n",
            "Arreglo Final:  [1, 2, 4, 7, 8, 13, 16]\n"
          ]
        }
      ]
    },
    {
      "cell_type": "markdown",
      "source": [
        "### **Paso a Paso**\n",
        "Se mostraran los montículos creados hasta llegar a el arreglo ordenado, cada montículo cumplirá que los hijos serán menores al padre.\n",
        "**Recordar que, en formato del arreglo, los padres y los hijos se visualizan como:** \n",
        "Si el padre esta en la posición i, el hijo izquierdo estará en la posición (2 * i) + 1 y el hijo derecho en (2 * i) + 2.\n",
        "\n",
        "**Ejemplo:** \n",
        "\n",
        "[8, 7, 5, 1, 2]\n",
        "\n",
        "**Nodo padre:**  8 (posición 0)\n",
        "\n",
        "**Nodo hijo izquierdo:** 7 (posicion 1)\n",
        "\n",
        "**Nodo hijo derecho:** 5 (posicion 2)\n",
        "\n",
        "\n"
      ],
      "metadata": {
        "id": "HlSH-cqME410"
      }
    },
    {
      "cell_type": "code",
      "source": [
        "arreglo = [13, 2 , 4, 8, 1, 16,7]\n",
        "cont = [0]\n",
        "print(\"Arreglo inicial:  \", arreglo, \"\\n\")\n",
        "heapSort(arreglo, cont,  verbose = True)\n",
        "print(\"Arreglo Final:    \", arreglo, \"\\n\")\n",
        "print(\"Cantidad de comparaciones: \", cont)"
      ],
      "metadata": {
        "colab": {
          "base_uri": "https://localhost:8080/"
        },
        "id": "Tb6QsbLCHb5E",
        "outputId": "d2752b58-adc6-4e9b-e5b1-d6534b3a688a"
      },
      "execution_count": 12,
      "outputs": [
        {
          "output_type": "stream",
          "name": "stdout",
          "text": [
            "Arreglo inicial:   [13, 2, 4, 8, 1, 16, 7] \n",
            "\n",
            "Montículo creado:  [16, 8, 13, 2, 1, 4, 7] \n",
            "\n",
            "Montículo creado:  [13, 8, 7, 2, 1, 4, 16] \n",
            "\n",
            "Montículo creado:  [8, 4, 7, 2, 1, 13, 16] \n",
            "\n",
            "Montículo creado:  [7, 4, 1, 2, 8, 13, 16] \n",
            "\n",
            "Montículo creado:  [4, 2, 1, 7, 8, 13, 16] \n",
            "\n",
            "Montículo creado:  [2, 1, 4, 7, 8, 13, 16] \n",
            "\n",
            "Arreglo Final:     [1, 2, 4, 7, 8, 13, 16] \n",
            "\n",
            "Cantidad de comparaciones:  [10]\n"
          ]
        }
      ]
    },
    {
      "cell_type": "markdown",
      "source": [
        "## **EXPERIMENTOS**"
      ],
      "metadata": {
        "id": "Exy91u2ul4h0"
      }
    },
    {
      "cell_type": "markdown",
      "source": [
        "### **GRAFICO CANTIDAD DE COMPARACIONES**\n",
        "\n",
        "\n",
        "\n",
        "> En el siguiento gráfico se evaluará que algoritmo realiza mas comparaciones para poder resolver los problemas que se les presentan.\n",
        "\n",
        "\n",
        "\n",
        "> Como entradas, ambos reciben arreglos aleatorios, con tamaños que van desde 1 hasta 99, ambos arreglos tendrán los mismos tamaños en cada iteración y contendrán números aleatorios entre [1, 2000]\n",
        "\n",
        "\n",
        "\n"
      ],
      "metadata": {
        "id": "qqYE5KC0sqz_"
      }
    },
    {
      "cell_type": "code",
      "source": [
        "import matplotlib.pyplot as plt\n",
        "import datetime\n",
        "import random\n",
        "from timeit import repeat\n",
        "\n",
        "#codigo merge sort\n",
        "def Merge(arrIzq, arrDer,cont):\n",
        "\n",
        "  i = 0\n",
        "  j = 0\n",
        "  k = 0\n",
        "  arrOrdenado = []\n",
        "\n",
        "#Recorremos ambos subarreglos\n",
        "  while(i < len(arrIzq) and j < len(arrDer)):\n",
        "    auxIzq= arrIzq[i]\n",
        "    auxDer = arrDer[j]\n",
        "    #En el caso que el numero de el arregloizq es menor, se agrega al arreglo ordenado,\n",
        "    #de no ser asi, se agregar el numero de el arreglo derecho\n",
        "    if(auxIzq <= auxDer):\n",
        "      arrOrdenado.append(auxIzq)\n",
        "      i+=1\n",
        "      #Contador para ver la cantidad de comparaciones\n",
        "      cont[0] = cont[0] + 1\n",
        "    else:\n",
        "      arrOrdenado.append(auxDer)\n",
        "      j+=1\n",
        "      #Contador para ver la cantidad de comparaciones\n",
        "      cont[0] = cont[0] + 1  \n",
        "  while(i < len(arrIzq)):    \n",
        "    arrOrdenado.append(arrIzq[i])\n",
        "    i+= 1\n",
        "    cont[0] = cont[0] + 1\n",
        "\n",
        "  while(j < len(arrDer)):    \n",
        "    arrOrdenado.append(arrDer[j])\n",
        "    j+= 1\n",
        "    cont[0] = cont[0] + 1\n",
        "\n",
        "     \n",
        "\n",
        "  return arrOrdenado      \n",
        "\n",
        "def MergeSort(arreglo, cont, verbose):\n",
        "\n",
        "  #obtenemos la posicion de la mitad de el arreglo\n",
        "  mitad = len(arreglo) // 2\n",
        "\n",
        "  #Si el largo de el arreglo es 1, se retorna este mismo, dado que ya esta ordenado\n",
        "  if(len(arreglo) == 1):\n",
        "    return arreglo\n",
        "\n",
        "  if(verbose == True):\n",
        "    arrIzq = arreglo[:mitad]\n",
        "    arrDer = arreglo[mitad:]\n",
        "    print(\"Subarreglos: \", arrIzq, arrDer, \"\\n\")\n",
        "  else:\n",
        "    #Creamos subarreglos con la mitad correspondiente del arreglo originak\n",
        "      arrIzq = arreglo[:mitad]\n",
        "      arrDer = arreglo[mitad:]\n",
        "    \n",
        "  #Contador para las llamadas recursivas\n",
        "  if(cont[1 != 0]):\n",
        "    cont[1] = cont[1] + 1\n",
        "\n",
        "  arrIzq = MergeSort(arrIzq,cont, verbose)\n",
        "  arrDer = MergeSort(arrDer, cont,verbose)\n",
        "  return Merge(arrIzq, arrDer,cont)\n",
        "\n",
        "\n",
        " #Codigo experimento \n",
        "x=[]; y=[]\n",
        "y1=[]\n",
        "\n",
        "for n in range(1,100):\n",
        "\n",
        "  a = random.sample(range(1, 2000), n)\n",
        "  cont = [0,0]\n",
        "  MergeSort(a, cont, verbose = False)\n",
        "  a2 = random.sample(range(1, 2000), n)\n",
        "  #heapSort(arreglo, cont,  verbose = True)\n",
        "  cont1 = [0]\n",
        "  heapSort(a2, cont1, verbose = False)\n",
        "  x.append(n)\n",
        "  y.append(cont1[0])\n",
        "  y1.append(cont[0])\n",
        "  \n",
        "\n",
        "\n",
        "plt.plot(x, y)\n",
        "plt.plot(x, y1)\n",
        "plt.legend([\"Heap Sort\", \"Merge Sort\"])\n",
        "\n",
        "plt.xlabel('Tamaño del arreglo')\n",
        "plt.ylabel('Numero de comparaciones')\n",
        "plt.show()"
      ],
      "metadata": {
        "colab": {
          "base_uri": "https://localhost:8080/",
          "height": 282
        },
        "id": "H0wtPsJHoWrN",
        "outputId": "31dc660d-6127-4a2a-8627-983741188a42"
      },
      "execution_count": 26,
      "outputs": [
        {
          "output_type": "display_data",
          "data": {
            "text/plain": [
              "<Figure size 432x288 with 1 Axes>"
            ],
            "image/png": "[encoded data removed]"
          },
          "metadata": {
            "needs_background": "light"
          }
        }
      ]
    },
    {
      "cell_type": "markdown",
      "source": [
        "\n",
        "**RESULTADO**\n",
        "\n",
        "\n",
        "> Ambas funciones contienen llamadas recursivas y el mismo tiempo de ejecución: ***O(nlog(n))***, por lo que si evaluamos la cantidad de comparaciones que ambos realizan es esperable que ambos tengan un leve parecido.Sin embargo, podemos notar que Merge Sort realiza unas pequeñas comparaciones extras a comparación de Heap Sort, por lo que este último algoritmo mencionado sería por una pequeña diferencia mas eficiente que Merge Sort.\n",
        "\n"
      ],
      "metadata": {
        "id": "xKHlfUs9uA50"
      }
    },
    {
      "cell_type": "markdown",
      "source": [
        "### **GRÁFICO QUICK SORT V/S HEAP SORT**\n",
        "\n",
        "\n",
        "\n",
        "> Tanto quick como heap sort son algoritmos enfocados en ordenar un conjunto de datos.\n",
        "\n",
        "\n",
        "\n",
        "\n",
        "> En este gráfico se compararán sus tiempos de ejecución para ver cual es más eficiente.\n",
        "\n",
        "\n",
        "\n",
        "> Las entradas serán arreglos aleatorios con tamaños variables entre 1 y 100, compuestos por números entre [1,1000].\n",
        "\n",
        "\n",
        "\n",
        "\n"
      ],
      "metadata": {
        "id": "BhbJM1bHzTTe"
      }
    },
    {
      "cell_type": "code",
      "source": [
        "import matplotlib.pyplot as plt\n",
        "import datetime\n",
        "import random\n",
        "from timeit import repeat\n",
        "    \n",
        "#QuickSort\n",
        "def quicksort(arreglo, izquierda, derecha):\n",
        "    if izquierda < derecha:\n",
        "        indiceParticion = particion(arreglo, izquierda, derecha)\n",
        "        quicksort(arreglo, izquierda, indiceParticion)\n",
        "        quicksort(arreglo, indiceParticion + 1, derecha)\n",
        "\n",
        "\n",
        "def particion(arreglo, izquierda, derecha):\n",
        "    pivote = arreglo[izquierda]\n",
        "    while True:\n",
        "       \n",
        "        while arreglo[izquierda] < pivote:\n",
        "            izquierda += 1\n",
        "\n",
        "    \n",
        "        while arreglo[derecha] > pivote:\n",
        "            derecha -= 1\n",
        "\n",
        "        if izquierda >= derecha:\n",
        "           \n",
        "            return derecha\n",
        "        else:\n",
        "            \n",
        "            arreglo[izquierda], arreglo[derecha] = arreglo[derecha], arreglo[izquierda]\n",
        "           \n",
        "            izquierda += 1\n",
        "            derecha -= 1\n",
        "\n",
        "\n",
        "\n",
        "\n",
        "#Codigo experimento\n",
        "x=[]; y=[]\n",
        "y1=[] ; y2=[] ; y3 = []\n",
        "\n",
        "for n in range(1,100):\n",
        "\n",
        "  a = random.sample(range(1, 1000), n)\n",
        "  cont = [0]\n",
        "  verbose = False\n",
        " \n",
        "  t1 = repeat(setup=\"from __main__ import heapSort\", stmt=f\"heapSort({a},{cont},{verbose})\", repeat=1, number=10)\n",
        "  t2 = repeat(setup=\"from __main__ import quicksort\", stmt=f\"quicksort({a},{0},{len(a)-1})\", repeat=1, number=10)\n",
        "\n",
        "  x.append(n)\n",
        "\n",
        "  y1.append(t1)\n",
        "  y2.append(t2)\n",
        "\n",
        "\n",
        "plt.plot(x,y1)\n",
        "plt.plot(x,y2)\n",
        "plt.legend([\"Heap Sort\",\"Quick Sort\"])\n",
        "\n",
        "plt.xlabel('Tamaño del arreglo')\n",
        "plt.ylabel('Tiempo en ms')\n",
        "plt.show()"
      ],
      "metadata": {
        "colab": {
          "base_uri": "https://localhost:8080/",
          "height": 279
        },
        "id": "H313f4tXrmNA",
        "outputId": "cae6c477-573e-4416-e2b0-3a3025705088"
      },
      "execution_count": 43,
      "outputs": [
        {
          "output_type": "display_data",
          "data": {
            "text/plain": [
              "<Figure size 432x288 with 1 Axes>"
            ],
            "image/png": "[encoded data removed]"
          },
          "metadata": {
            "needs_background": "light"
          }
        }
      ]
    },
    {
      "cell_type": "markdown",
      "source": [
        "**RESULTADO**\n",
        "\n",
        "\n",
        "> Al comparar ambos algoritmos, podemos ver que quick sort es más eficiente que heap sort por una diferencia considerable, esto se debe a que\n",
        "\n"
      ],
      "metadata": {
        "id": "RIMfw1O90AN3"
      }
    }
  ]
}